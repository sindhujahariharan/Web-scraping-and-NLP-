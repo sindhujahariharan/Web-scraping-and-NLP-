{
 "cells": [
  {
   "cell_type": "code",
   "execution_count": 2,
   "id": "82ae93bc",
   "metadata": {
    "ExecuteTime": {
     "end_time": "2021-11-24T22:47:49.610649Z",
     "start_time": "2021-11-24T22:47:49.603085Z"
    }
   },
   "outputs": [],
   "source": [
    "def navigate_to_baseurl(driver,url):\n",
    "    base_url = url_concat(url)\n",
    "    driver.get(base_url)\n",
    "    driver.implicitly_wait(10)"
   ]
  },
  {
   "cell_type": "code",
   "execution_count": 3,
   "id": "aae987c4",
   "metadata": {
    "ExecuteTime": {
     "end_time": "2021-11-24T22:47:51.200652Z",
     "start_time": "2021-11-24T22:47:51.196870Z"
    }
   },
   "outputs": [],
   "source": [
    "def url_concat(url):\n",
    "    urlstr= url\n",
    "    return urlstr"
   ]
  },
  {
   "cell_type": "code",
   "execution_count": 12,
   "id": "a5fd71bc",
   "metadata": {
    "ExecuteTime": {
     "end_time": "2021-11-24T23:09:32.397972Z",
     "start_time": "2021-11-24T23:09:32.381868Z"
    }
   },
   "outputs": [],
   "source": [
    "def init_web_driver():\n",
    "    options = webdriver.ChromeOptions()\n",
    "    options.add_argument(\"--disable-notifications\");\n",
    "    options.add_argument(\"start-maximized\")\n",
    "    options.add_experimental_option(\"excludeSwitches\", [\"enable-automation\"])\n",
    "    options.add_experimental_option('useAutomationExtension', False)\n",
    "    driver=webdriver.Chrome(r\"C:/Users/admin/OneDrive/Documents/Sindhu/Software/Selenium/Driver/chromedriver.exe\",options=options)\n",
    "    return driver"
   ]
  },
  {
   "cell_type": "code",
   "execution_count": 5,
   "id": "8cd13046",
   "metadata": {
    "ExecuteTime": {
     "end_time": "2021-11-24T22:36:22.491350Z",
     "start_time": "2021-11-24T22:36:16.279269Z"
    }
   },
   "outputs": [
    {
     "name": "stdout",
     "output_type": "stream",
     "text": [
      "Collecting selenium\n",
      "  Downloading selenium-4.1.0-py3-none-any.whl (958 kB)\n",
      "Collecting trio-websocket~=0.9\n",
      "  Downloading trio_websocket-0.9.2-py3-none-any.whl (16 kB)\n",
      "Requirement already satisfied: urllib3[secure]~=1.26 in c:\\users\\admin\\anaconda3\\lib\\site-packages (from selenium) (1.26.4)\n",
      "Collecting trio~=0.17\n",
      "  Downloading trio-0.19.0-py3-none-any.whl (356 kB)\n",
      "Requirement already satisfied: attrs>=19.2.0 in c:\\users\\admin\\anaconda3\\lib\\site-packages (from trio~=0.17->selenium) (20.3.0)\n",
      "Requirement already satisfied: cffi>=1.14 in c:\\users\\admin\\anaconda3\\lib\\site-packages (from trio~=0.17->selenium) (1.14.5)\n",
      "Collecting outcome\n",
      "  Downloading outcome-1.1.0-py2.py3-none-any.whl (9.7 kB)\n",
      "Requirement already satisfied: sniffio in c:\\users\\admin\\anaconda3\\lib\\site-packages (from trio~=0.17->selenium) (1.2.0)\n",
      "Requirement already satisfied: async-generator>=1.9 in c:\\users\\admin\\anaconda3\\lib\\site-packages (from trio~=0.17->selenium) (1.10)\n",
      "Requirement already satisfied: idna in c:\\users\\admin\\anaconda3\\lib\\site-packages (from trio~=0.17->selenium) (2.10)\n",
      "Requirement already satisfied: sortedcontainers in c:\\users\\admin\\anaconda3\\lib\\site-packages (from trio~=0.17->selenium) (2.3.0)\n",
      "Requirement already satisfied: pycparser in c:\\users\\admin\\anaconda3\\lib\\site-packages (from cffi>=1.14->trio~=0.17->selenium) (2.20)\n",
      "Collecting wsproto>=0.14\n",
      "  Downloading wsproto-1.0.0-py3-none-any.whl (24 kB)\n",
      "Requirement already satisfied: cryptography>=1.3.4 in c:\\users\\admin\\anaconda3\\lib\\site-packages (from urllib3[secure]~=1.26->selenium) (3.4.7)\n",
      "Requirement already satisfied: certifi in c:\\users\\admin\\anaconda3\\lib\\site-packages (from urllib3[secure]~=1.26->selenium) (2020.12.5)\n",
      "Requirement already satisfied: pyOpenSSL>=0.14 in c:\\users\\admin\\anaconda3\\lib\\site-packages (from urllib3[secure]~=1.26->selenium) (20.0.1)\n",
      "Requirement already satisfied: six>=1.5.2 in c:\\users\\admin\\anaconda3\\lib\\site-packages (from pyOpenSSL>=0.14->urllib3[secure]~=1.26->selenium) (1.15.0)\n",
      "Collecting h11<1,>=0.9.0\n",
      "  Downloading h11-0.12.0-py3-none-any.whl (54 kB)\n",
      "Installing collected packages: outcome, h11, wsproto, trio, trio-websocket, selenium\n",
      "Successfully installed h11-0.12.0 outcome-1.1.0 selenium-4.1.0 trio-0.19.0 trio-websocket-0.9.2 wsproto-1.0.0\n"
     ]
    }
   ],
   "source": [
    "!pip install selenium"
   ]
  },
  {
   "cell_type": "code",
   "execution_count": 37,
   "id": "d522f96f",
   "metadata": {
    "ExecuteTime": {
     "end_time": "2021-11-25T06:28:36.489387Z",
     "start_time": "2021-11-25T06:28:23.841667Z"
    }
   },
   "outputs": [
    {
     "name": "stderr",
     "output_type": "stream",
     "text": [
      "<ipython-input-12-281807a5d930>:7: DeprecationWarning: executable_path has been deprecated, please pass in a Service object\n",
      "  driver=webdriver.Chrome(r\"C:/Users/admin/OneDrive/Documents/Sindhu/Software/Selenium/Driver/chromedriver.exe\",options=options)\n",
      "<ipython-input-37-f81e2aea588f>:12: DeprecationWarning: find_element_by_* commands are deprecated. Please use find_element() instead\n",
      "  input_model = driver.find_element_by_xpath(\"//*[@id='search-bar-container-wrapper']/div[2]/div/input\")\n",
      "<ipython-input-37-f81e2aea588f>:15: DeprecationWarning: find_element_by_* commands are deprecated. Please use find_element() instead\n",
      "  button = driver.find_element_by_xpath(\"//*[@id='search-bar-container-wrapper']/div[2]/button\")\n",
      "<ipython-input-37-f81e2aea588f>:18: DeprecationWarning: find_element_by_* commands are deprecated. Please use find_element() instead\n",
      "  pop_up_input = driver.find_element_by_xpath(\"//*[@id='experiment-sheet']\")\n",
      "<ipython-input-37-f81e2aea588f>:21: DeprecationWarning: find_element_by_* commands are deprecated. Please use find_element() instead\n",
      "  pop_up_close = driver.find_element_by_xpath(\"//*[@id='email-capture']/div[2]/div/div/div[2]/button\")\n",
      "<ipython-input-37-f81e2aea588f>:27: DeprecationWarning: find_elements_by_* commands are deprecated. Please use find_elements() instead\n",
      "  list_cars_page=driver.find_elements_by_class_name('year-make-experiment')\n"
     ]
    },
    {
     "name": "stdout",
     "output_type": "stream",
     "text": [
      "2018 Subaru Forester\n",
      "2021 Subaru Forester\n",
      "2014 Subaru Forester\n",
      "2017 Subaru Forester\n",
      "2017 Subaru Forester\n",
      "2016 Subaru Forester\n",
      "2015 Subaru Forester\n",
      "2016 Subaru Forester\n",
      "2015 Subaru Forester\n",
      "2018 Subaru Forester\n",
      "2016 Subaru Forester\n",
      "2016 Subaru Forester\n",
      "2018 Subaru Forester\n",
      "2018 Subaru Forester\n",
      "2018 Subaru Forester\n",
      "2015 Subaru Forester\n",
      "2017 Subaru Forester\n",
      "2018 Subaru Forester\n",
      "2017 Subaru Forester\n",
      "2014 Subaru Forester\n"
     ]
    }
   ],
   "source": [
    "from selenium import webdriver\n",
    "from selenium.webdriver.common.keys import Keys\n",
    "from selenium.webdriver.support.ui import WebDriverWait\n",
    "from  selenium.webdriver.common.action_chains import ActionChains\n",
    "import csv\n",
    "\n",
    "driver = init_web_driver()\n",
    "url = \"https://www.carvana.com/cars\"\n",
    "\n",
    "index=0\n",
    "navigate_to_baseurl(driver,url)\n",
    "input_model = driver.find_element_by_xpath(\"//*[@id='search-bar-container-wrapper']/div[2]/div/input\")\n",
    "input_model.send_keys('Forester')\n",
    "#input_modelsend_keys(Keys.RETURN)\n",
    "button = driver.find_element_by_xpath(\"//*[@id='search-bar-container-wrapper']/div[2]/button\")\n",
    "button.click()\n",
    "\n",
    "pop_up_input = driver.find_element_by_xpath(\"//*[@id='experiment-sheet']\")\n",
    "pop_up_input.send_keys('123@abc.com')\n",
    "\n",
    "pop_up_close = driver.find_element_by_xpath(\"//*[@id='email-capture']/div[2]/div/div/div[2]/button\")\n",
    "driver.implicitly_wait(10)\n",
    "ActionChains(driver).move_to_element(pop_up_close).click(pop_up_close).perform()\n",
    "#Navigating though the list of cars form the current page\n",
    "#First i need to gte the list of all cars in teh current page\n",
    "\n",
    "list_cars_page=driver.find_elements_by_class_name('year-make-experiment')\n",
    "for i in list_cars_page:\n",
    "    driver = webdriver.Chrome()\n",
    "    actionChains = ActionChains(driver)\n",
    "\n",
    "    actionChains.context_click(your_link).perform()\n"
   ]
  }
 ],
 "metadata": {
  "kernelspec": {
   "display_name": "Python 3",
   "language": "python",
   "name": "python3"
  },
  "language_info": {
   "codemirror_mode": {
    "name": "ipython",
    "version": 3
   },
   "file_extension": ".py",
   "mimetype": "text/x-python",
   "name": "python",
   "nbconvert_exporter": "python",
   "pygments_lexer": "ipython3",
   "version": "3.8.8"
  }
 },
 "nbformat": 4,
 "nbformat_minor": 5
}
