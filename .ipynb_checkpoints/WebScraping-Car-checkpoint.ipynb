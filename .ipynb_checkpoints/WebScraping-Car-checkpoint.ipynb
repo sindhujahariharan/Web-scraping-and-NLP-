{
 "cells": [
  {
   "cell_type": "code",
   "execution_count": 2,
   "id": "82ae93bc",
   "metadata": {
    "ExecuteTime": {
     "end_time": "2021-12-02T17:03:00.602749Z",
     "start_time": "2021-12-02T17:02:59.088445Z"
    }
   },
   "outputs": [],
   "source": [
    "#Import statements\n",
    "\n",
    "from selenium import webdriver\n",
    "from selenium.webdriver.common.keys import Keys\n",
    "from selenium.webdriver.support.ui import WebDriverWait\n",
    "from  selenium.webdriver.common.action_chains import ActionChains\n",
    "from selenium.webdriver.common.by import By\n",
    "from selenium.webdriver.support import expected_conditions as EC\n",
    "import pandas as pd\n",
    "\n",
    "  \n",
    "import csv\n"
   ]
  },
  {
   "cell_type": "code",
   "execution_count": 3,
   "id": "0f767d70",
   "metadata": {
    "ExecuteTime": {
     "end_time": "2021-12-02T17:03:01.536185Z",
     "start_time": "2021-12-02T17:03:01.530201Z"
    }
   },
   "outputs": [],
   "source": [
    "def navigate_to_baseurl(driver,url):\n",
    "    base_url = url_concat(url)\n",
    "    driver.get(base_url)\n",
    "    driver.implicitly_wait(10)"
   ]
  },
  {
   "cell_type": "code",
   "execution_count": 4,
   "id": "aae987c4",
   "metadata": {
    "ExecuteTime": {
     "end_time": "2021-12-02T17:03:03.419790Z",
     "start_time": "2021-12-02T17:03:03.402591Z"
    }
   },
   "outputs": [],
   "source": [
    "def url_concat(url):\n",
    "    urlstr= url\n",
    "    return urlstr"
   ]
  },
  {
   "cell_type": "code",
   "execution_count": 5,
   "id": "a5fd71bc",
   "metadata": {
    "ExecuteTime": {
     "end_time": "2021-12-02T17:03:04.906484Z",
     "start_time": "2021-12-02T17:03:04.895911Z"
    }
   },
   "outputs": [],
   "source": [
    "def init_web_driver():\n",
    "    options = webdriver.ChromeOptions()\n",
    "    options.add_argument(\"--disable-notifications\");\n",
    "    options.add_argument(\"start-maximized\")\n",
    "    options.add_argument('--no-sandbox')\n",
    "    options.add_experimental_option(\"excludeSwitches\", [\"enable-automation\"])\n",
    "    options.add_experimental_option('useAutomationExtension', False)\n",
    "    driver=webdriver.Chrome(r\"C:/Users/admin/OneDrive/Documents/Sindhu/Software/Selenium/Driver/chromedriver.exe\",options=options)\n",
    "    return driver"
   ]
  },
  {
   "cell_type": "code",
   "execution_count": 6,
   "id": "edb806bb",
   "metadata": {
    "ExecuteTime": {
     "end_time": "2021-12-02T17:03:06.423049Z",
     "start_time": "2021-12-02T17:03:06.402101Z"
    }
   },
   "outputs": [],
   "source": [
    "def popup_block(pop_up_input,input_xpath,close_xpath):\n",
    "    input_box = driver.find_element(By.XPATH,value = input_xpath)\n",
    "    input_box.send_keys(pop_up_input)\n",
    "\n",
    "    pop_up_close = driver.find_element(By.XPATH,value=close_xpath)\n",
    "    driver.implicitly_wait(10)\n",
    "    ActionChains(driver).move_to_element(pop_up_close).click(pop_up_close).perform()"
   ]
  },
  {
   "cell_type": "code",
   "execution_count": 7,
   "id": "02ba277a",
   "metadata": {
    "ExecuteTime": {
     "end_time": "2021-12-02T17:03:07.972173Z",
     "start_time": "2021-12-02T17:03:07.967187Z"
    }
   },
   "outputs": [],
   "source": [
    "def search_car(str):\n",
    "    driver.implicitly_wait(10)\n",
    "    input_model = driver.find_element(By.XPATH, value= \"//*[@id='search-bar-container-wrapper']/div[2]/div/input\")\n",
    "    input_model.send_keys(str)\n",
    "    button = driver.find_element(By.XPATH,value=\"//*[@id='search-bar-container-wrapper']/div[2]/button\")\n",
    "    button.click()\n"
   ]
  },
  {
   "cell_type": "code",
   "execution_count": 5,
   "id": "8cd13046",
   "metadata": {
    "ExecuteTime": {
     "end_time": "2021-11-24T22:36:22.491350Z",
     "start_time": "2021-11-24T22:36:16.279269Z"
    }
   },
   "outputs": [
    {
     "name": "stdout",
     "output_type": "stream",
     "text": [
      "Collecting selenium\n",
      "  Downloading selenium-4.1.0-py3-none-any.whl (958 kB)\n",
      "Collecting trio-websocket~=0.9\n",
      "  Downloading trio_websocket-0.9.2-py3-none-any.whl (16 kB)\n",
      "Requirement already satisfied: urllib3[secure]~=1.26 in c:\\users\\admin\\anaconda3\\lib\\site-packages (from selenium) (1.26.4)\n",
      "Collecting trio~=0.17\n",
      "  Downloading trio-0.19.0-py3-none-any.whl (356 kB)\n",
      "Requirement already satisfied: attrs>=19.2.0 in c:\\users\\admin\\anaconda3\\lib\\site-packages (from trio~=0.17->selenium) (20.3.0)\n",
      "Requirement already satisfied: cffi>=1.14 in c:\\users\\admin\\anaconda3\\lib\\site-packages (from trio~=0.17->selenium) (1.14.5)\n",
      "Collecting outcome\n",
      "  Downloading outcome-1.1.0-py2.py3-none-any.whl (9.7 kB)\n",
      "Requirement already satisfied: sniffio in c:\\users\\admin\\anaconda3\\lib\\site-packages (from trio~=0.17->selenium) (1.2.0)\n",
      "Requirement already satisfied: async-generator>=1.9 in c:\\users\\admin\\anaconda3\\lib\\site-packages (from trio~=0.17->selenium) (1.10)\n",
      "Requirement already satisfied: idna in c:\\users\\admin\\anaconda3\\lib\\site-packages (from trio~=0.17->selenium) (2.10)\n",
      "Requirement already satisfied: sortedcontainers in c:\\users\\admin\\anaconda3\\lib\\site-packages (from trio~=0.17->selenium) (2.3.0)\n",
      "Requirement already satisfied: pycparser in c:\\users\\admin\\anaconda3\\lib\\site-packages (from cffi>=1.14->trio~=0.17->selenium) (2.20)\n",
      "Collecting wsproto>=0.14\n",
      "  Downloading wsproto-1.0.0-py3-none-any.whl (24 kB)\n",
      "Requirement already satisfied: cryptography>=1.3.4 in c:\\users\\admin\\anaconda3\\lib\\site-packages (from urllib3[secure]~=1.26->selenium) (3.4.7)\n",
      "Requirement already satisfied: certifi in c:\\users\\admin\\anaconda3\\lib\\site-packages (from urllib3[secure]~=1.26->selenium) (2020.12.5)\n",
      "Requirement already satisfied: pyOpenSSL>=0.14 in c:\\users\\admin\\anaconda3\\lib\\site-packages (from urllib3[secure]~=1.26->selenium) (20.0.1)\n",
      "Requirement already satisfied: six>=1.5.2 in c:\\users\\admin\\anaconda3\\lib\\site-packages (from pyOpenSSL>=0.14->urllib3[secure]~=1.26->selenium) (1.15.0)\n",
      "Collecting h11<1,>=0.9.0\n",
      "  Downloading h11-0.12.0-py3-none-any.whl (54 kB)\n",
      "Installing collected packages: outcome, h11, wsproto, trio, trio-websocket, selenium\n",
      "Successfully installed h11-0.12.0 outcome-1.1.0 selenium-4.1.0 trio-0.19.0 trio-websocket-0.9.2 wsproto-1.0.0\n"
     ]
    }
   ],
   "source": [
    "!pip install selenium"
   ]
  },
  {
   "cell_type": "code",
   "execution_count": 47,
   "id": "63f38882",
   "metadata": {
    "ExecuteTime": {
     "end_time": "2021-12-03T15:53:59.518830Z",
     "start_time": "2021-12-03T15:51:00.856584Z"
    },
    "scrolled": true
   },
   "outputs": [
    {
     "name": "stderr",
     "output_type": "stream",
     "text": [
      "<ipython-input-5-0faefd43bddb>:8: DeprecationWarning: executable_path has been deprecated, please pass in a Service object\n",
      "  driver=webdriver.Chrome(r\"C:/Users/admin/OneDrive/Documents/Sindhu/Software/Selenium/Driver/chromedriver.exe\",options=options)\n"
     ]
    },
    {
     "name": "stdout",
     "output_type": "stream",
     "text": [
      "[<selenium.webdriver.remote.webelement.WebElement (session=\"7e481020a6a7980d7b44f3d7e77f4867\", element=\"aa8e7398-84a2-42d3-aa9e-0dab0f3fbffe\")>, <selenium.webdriver.remote.webelement.WebElement (session=\"7e481020a6a7980d7b44f3d7e77f4867\", element=\"4cf21d37-8119-4509-bc70-8859aae6db56\")>, <selenium.webdriver.remote.webelement.WebElement (session=\"7e481020a6a7980d7b44f3d7e77f4867\", element=\"59a3d56a-7182-4a2c-bccf-d8ad40bb7b2d\")>, <selenium.webdriver.remote.webelement.WebElement (session=\"7e481020a6a7980d7b44f3d7e77f4867\", element=\"23236d5a-438c-43ee-ba7c-4a3da8e1fdb1\")>, <selenium.webdriver.remote.webelement.WebElement (session=\"7e481020a6a7980d7b44f3d7e77f4867\", element=\"8962a3a7-5eb6-450d-b945-20eda278dece\")>, <selenium.webdriver.remote.webelement.WebElement (session=\"7e481020a6a7980d7b44f3d7e77f4867\", element=\"0f190686-5ac9-4170-a897-948959f4dfbc\")>, <selenium.webdriver.remote.webelement.WebElement (session=\"7e481020a6a7980d7b44f3d7e77f4867\", element=\"dccdf5d2-8f4f-4959-9911-f1f32523f164\")>, <selenium.webdriver.remote.webelement.WebElement (session=\"7e481020a6a7980d7b44f3d7e77f4867\", element=\"27beb62b-7a52-4319-9ac0-1e65b8a612a0\")>, <selenium.webdriver.remote.webelement.WebElement (session=\"7e481020a6a7980d7b44f3d7e77f4867\", element=\"f0a2c861-58b1-4388-8a0d-88cbdaf8ce15\")>]\n",
      "{'Model': '2021\\nSUBARU FORESTER\\nTouring Sport Utility 4D', 'Price': '$39,990', 'Car_Highlights': ['Rear Heated Seats\\nExplore in 360', 'Heated Seats\\nExplore in 360', 'Power Seat Controls', 'Blind Spot Warning\\nExplore in 360', 'Infotainment System', 'Backup Camera\\nExplore in 360', 'Seat Memory System\\nExplore in 360', 'Hands Free Calling', 'No Reported Accidents\\nView Report']}\n",
      "[<selenium.webdriver.remote.webelement.WebElement (session=\"7e481020a6a7980d7b44f3d7e77f4867\", element=\"9b07e14e-1704-4b02-9577-9c51cb765b93\")>, <selenium.webdriver.remote.webelement.WebElement (session=\"7e481020a6a7980d7b44f3d7e77f4867\", element=\"d3b855c3-a324-446d-8595-7d4fac2eb1db\")>, <selenium.webdriver.remote.webelement.WebElement (session=\"7e481020a6a7980d7b44f3d7e77f4867\", element=\"b8f6251e-55ad-4538-b07d-b06f63c04321\")>, <selenium.webdriver.remote.webelement.WebElement (session=\"7e481020a6a7980d7b44f3d7e77f4867\", element=\"bb0f7047-7b37-4ec3-9155-d2b3411fbdbe\")>, <selenium.webdriver.remote.webelement.WebElement (session=\"7e481020a6a7980d7b44f3d7e77f4867\", element=\"b6b01245-27e1-4bd8-8b0e-af4ed93172b9\")>, <selenium.webdriver.remote.webelement.WebElement (session=\"7e481020a6a7980d7b44f3d7e77f4867\", element=\"34bf0a34-03b4-471d-a5af-c15412609d03\")>, <selenium.webdriver.remote.webelement.WebElement (session=\"7e481020a6a7980d7b44f3d7e77f4867\", element=\"653c2693-c25f-471a-9341-ee6321c893bb\")>, <selenium.webdriver.remote.webelement.WebElement (session=\"7e481020a6a7980d7b44f3d7e77f4867\", element=\"a5513c92-91e3-4914-a835-aa1c59f9d741\")>, <selenium.webdriver.remote.webelement.WebElement (session=\"7e481020a6a7980d7b44f3d7e77f4867\", element=\"dce25c6f-df69-43e4-81e5-e35bcdfab962\")>]\n",
      "{'Model': '2021\\nSUBARU FORESTER\\nTouring Sport Utility 4D', 'Price': '$39,990', 'Car_Highlights': ['Rear Heated Seats\\nExplore in 360', 'Power Seat Controls', 'Blind Spot Warning\\nExplore in 360', 'Screen', 'Navigation\\nExplore in 360', 'Backup Camera\\nExplore in 360', 'Seat Memory Controls\\nExplore in 360', 'Heated Steering Wheel\\nExplore in 360', 'No Reported Accidents\\nView Report']}\n",
      "[<selenium.webdriver.remote.webelement.WebElement (session=\"7e481020a6a7980d7b44f3d7e77f4867\", element=\"a591150b-c718-4d38-8c29-8d0126efc1b4\")>, <selenium.webdriver.remote.webelement.WebElement (session=\"7e481020a6a7980d7b44f3d7e77f4867\", element=\"ad959886-5826-4521-a689-7b5a5848aa9c\")>, <selenium.webdriver.remote.webelement.WebElement (session=\"7e481020a6a7980d7b44f3d7e77f4867\", element=\"4e7733bf-944b-470c-b84b-e7711aceaaf2\")>, <selenium.webdriver.remote.webelement.WebElement (session=\"7e481020a6a7980d7b44f3d7e77f4867\", element=\"463d83a3-55d3-4dc2-9e04-78251b184788\")>, <selenium.webdriver.remote.webelement.WebElement (session=\"7e481020a6a7980d7b44f3d7e77f4867\", element=\"71bdc4bc-753b-4411-a547-7e13661ce74a\")>, <selenium.webdriver.remote.webelement.WebElement (session=\"7e481020a6a7980d7b44f3d7e77f4867\", element=\"cc95c051-e864-4c8e-a570-4673ed1bbb34\")>, <selenium.webdriver.remote.webelement.WebElement (session=\"7e481020a6a7980d7b44f3d7e77f4867\", element=\"4726ef28-bdef-48d7-bf2b-6e1fd97fe96d\")>, <selenium.webdriver.remote.webelement.WebElement (session=\"7e481020a6a7980d7b44f3d7e77f4867\", element=\"ba9cc161-d31b-49d7-bef6-5665aef3dbaa\")>, <selenium.webdriver.remote.webelement.WebElement (session=\"7e481020a6a7980d7b44f3d7e77f4867\", element=\"025e7b8a-d9ab-4ada-a977-c6f346357634\")>]\n",
      "{'Model': '2020\\nSUBARU FORESTER\\nTouring Sport Utility 4D', 'Price': '$38,590', 'Car_Highlights': ['Rear Heated Seats\\nExplore in 360', 'Heated Seats\\nExplore in 360', 'Power Seat Controls', 'Blind Spot Warning\\nExplore in 360', 'Infotainment System', 'Navigation\\nExplore in 360', 'Backup Camera\\nExplore in 360', 'Tow Hitch', 'No Reported Accidents\\nView Report']}\n",
      "[<selenium.webdriver.remote.webelement.WebElement (session=\"7e481020a6a7980d7b44f3d7e77f4867\", element=\"ad5463e3-8a9e-4aae-abeb-db1f57de5b5d\")>, <selenium.webdriver.remote.webelement.WebElement (session=\"7e481020a6a7980d7b44f3d7e77f4867\", element=\"000d0184-cbb7-4efb-986e-603c87e5ac64\")>, <selenium.webdriver.remote.webelement.WebElement (session=\"7e481020a6a7980d7b44f3d7e77f4867\", element=\"82a21cc1-3f28-4882-901f-a235678104c2\")>, <selenium.webdriver.remote.webelement.WebElement (session=\"7e481020a6a7980d7b44f3d7e77f4867\", element=\"cf1c5696-c24d-43ba-9059-a17695c44215\")>, <selenium.webdriver.remote.webelement.WebElement (session=\"7e481020a6a7980d7b44f3d7e77f4867\", element=\"2636946e-3150-461a-bdfd-cecc129ee9ae\")>, <selenium.webdriver.remote.webelement.WebElement (session=\"7e481020a6a7980d7b44f3d7e77f4867\", element=\"0b6f546f-8c57-403d-9d63-024931e380cc\")>, <selenium.webdriver.remote.webelement.WebElement (session=\"7e481020a6a7980d7b44f3d7e77f4867\", element=\"a7e633e0-627c-4797-934a-81e0fdde4de0\")>, <selenium.webdriver.remote.webelement.WebElement (session=\"7e481020a6a7980d7b44f3d7e77f4867\", element=\"7efb3bf3-b448-4964-94f6-dfc1ebbcaeb6\")>, <selenium.webdriver.remote.webelement.WebElement (session=\"7e481020a6a7980d7b44f3d7e77f4867\", element=\"b2747d89-b6be-45e4-9711-60d3eb41abae\")>]\n",
      "{'Model': '2021\\nSUBARU FORESTER\\nSport Utility 4D', 'Price': '$32,990', 'Car_Highlights': ['Seat Controls', 'Infotainment System', 'Backup Camera\\nExplore in 360', 'Universal Garage Door Opener\\nExplore in 360', 'Hands Free Calling', 'Bluetooth Music', 'Auto Emergency Braking', 'Apple CarPlay', 'No Reported Accidents\\nView Report']}\n",
      "[<selenium.webdriver.remote.webelement.WebElement (session=\"7e481020a6a7980d7b44f3d7e77f4867\", element=\"e2123761-0e6e-4367-bc1c-5d6b5a268781\")>, <selenium.webdriver.remote.webelement.WebElement (session=\"7e481020a6a7980d7b44f3d7e77f4867\", element=\"59c619b4-8af1-4169-a2b4-4e58fac1089a\")>, <selenium.webdriver.remote.webelement.WebElement (session=\"7e481020a6a7980d7b44f3d7e77f4867\", element=\"8878d803-5efe-4184-95e6-26fe4cd897b1\")>, <selenium.webdriver.remote.webelement.WebElement (session=\"7e481020a6a7980d7b44f3d7e77f4867\", element=\"51c48684-9e12-4334-abc1-22f360f69082\")>, <selenium.webdriver.remote.webelement.WebElement (session=\"7e481020a6a7980d7b44f3d7e77f4867\", element=\"b0b02c9d-c54d-4309-af31-4060a92b39d5\")>, <selenium.webdriver.remote.webelement.WebElement (session=\"7e481020a6a7980d7b44f3d7e77f4867\", element=\"402b481c-91c5-4325-82a7-970c878296ed\")>, <selenium.webdriver.remote.webelement.WebElement (session=\"7e481020a6a7980d7b44f3d7e77f4867\", element=\"94ae448e-d0d0-42c3-a121-562d5c590744\")>]\n",
      "{'Model': '2021\\nSUBARU FORESTER\\nSport Utility 4D', 'Price': '$32,990', 'Car_Highlights': ['Seat Controls', 'Bluetooth\\nExplore in 360', 'Infotainment System', 'Backup Camera\\nExplore in 360', 'Hands Free Calling', 'Adaptive Cruise Control', 'No Reported Accidents\\nView Report']}\n",
      "[<selenium.webdriver.remote.webelement.WebElement (session=\"7e481020a6a7980d7b44f3d7e77f4867\", element=\"4d5fc883-df2c-43a3-b7c4-57e479277c5a\")>, <selenium.webdriver.remote.webelement.WebElement (session=\"7e481020a6a7980d7b44f3d7e77f4867\", element=\"7bebf385-3051-4ce0-a8cb-0b15408accae\")>, <selenium.webdriver.remote.webelement.WebElement (session=\"7e481020a6a7980d7b44f3d7e77f4867\", element=\"590249f7-3206-49e4-b68b-c08e9fb55d4d\")>, <selenium.webdriver.remote.webelement.WebElement (session=\"7e481020a6a7980d7b44f3d7e77f4867\", element=\"a53ff37e-5ba4-4d2d-9442-790e13ce8f46\")>, <selenium.webdriver.remote.webelement.WebElement (session=\"7e481020a6a7980d7b44f3d7e77f4867\", element=\"13a49dc5-0f23-4997-b943-0fec123427be\")>, <selenium.webdriver.remote.webelement.WebElement (session=\"7e481020a6a7980d7b44f3d7e77f4867\", element=\"1092776c-00ac-4b47-a116-ee1d536c8b8f\")>, <selenium.webdriver.remote.webelement.WebElement (session=\"7e481020a6a7980d7b44f3d7e77f4867\", element=\"553c3169-b2f4-4a27-b56b-8420ef881455\")>, <selenium.webdriver.remote.webelement.WebElement (session=\"7e481020a6a7980d7b44f3d7e77f4867\", element=\"7c2b83ad-5367-430b-bb3b-79ac99bd7f9f\")>, <selenium.webdriver.remote.webelement.WebElement (session=\"7e481020a6a7980d7b44f3d7e77f4867\", element=\"20446820-e532-42e0-a1c1-093bc0b40858\")>]\n"
     ]
    },
    {
     "name": "stdout",
     "output_type": "stream",
     "text": [
      "{'Model': '2021\\nSUBARU FORESTER\\nPremium Sport Utility 4D', 'Price': '$36,990', 'Car_Highlights': ['Rear Air Vents', 'Heated Seats\\nExplore in 360', 'Power Seat Controls', \"Driver's Side Dash\", 'Infotainment System', 'Backup Camera\\nExplore in 360', 'Hands Free Calling', 'Bluetooth Music', 'No Reported Accidents\\nView Report']}\n",
      "[<selenium.webdriver.remote.webelement.WebElement (session=\"7e481020a6a7980d7b44f3d7e77f4867\", element=\"d1d2495e-d7f9-4db2-8f89-4ba5062e2536\")>, <selenium.webdriver.remote.webelement.WebElement (session=\"7e481020a6a7980d7b44f3d7e77f4867\", element=\"28bf0b9d-b344-4634-9658-5d5f4b781f71\")>, <selenium.webdriver.remote.webelement.WebElement (session=\"7e481020a6a7980d7b44f3d7e77f4867\", element=\"7acea5c7-2a8b-4092-9b66-5e44a82c0ce7\")>, <selenium.webdriver.remote.webelement.WebElement (session=\"7e481020a6a7980d7b44f3d7e77f4867\", element=\"2fb6b10f-ff18-431c-bed9-47dbdbee76e8\")>, <selenium.webdriver.remote.webelement.WebElement (session=\"7e481020a6a7980d7b44f3d7e77f4867\", element=\"976e35ee-9316-45e3-8324-22a96d7c5329\")>, <selenium.webdriver.remote.webelement.WebElement (session=\"7e481020a6a7980d7b44f3d7e77f4867\", element=\"a7b7c00d-f453-46a1-b907-4e710e0e9ce3\")>, <selenium.webdriver.remote.webelement.WebElement (session=\"7e481020a6a7980d7b44f3d7e77f4867\", element=\"0c24ba8e-8721-405c-9e65-2b1b63c80517\")>, <selenium.webdriver.remote.webelement.WebElement (session=\"7e481020a6a7980d7b44f3d7e77f4867\", element=\"263c9515-0529-4781-9778-21eb8bc6748f\")>, <selenium.webdriver.remote.webelement.WebElement (session=\"7e481020a6a7980d7b44f3d7e77f4867\", element=\"bd86e836-9169-4032-93a0-00559da97400\")>]\n",
      "{'Model': '2020\\nSUBARU FORESTER\\nSport SUV 4D', 'Price': '$37,990', 'Car_Highlights': ['Rear Air Vents', 'Heated Seats\\nExplore in 360', 'Power Seat Controls', 'Blind Spot Monitor\\nExplore in 360', 'Infotainment System', 'Backup Camera\\nExplore in 360', 'Hands Free Calling', 'Bluetooth Music', 'No Reported Accidents\\nView Report']}\n",
      "[<selenium.webdriver.remote.webelement.WebElement (session=\"7e481020a6a7980d7b44f3d7e77f4867\", element=\"e7c59963-60b7-42ea-9541-0415e12a8f98\")>, <selenium.webdriver.remote.webelement.WebElement (session=\"7e481020a6a7980d7b44f3d7e77f4867\", element=\"4a1af93c-f630-4167-ba66-f245b18c67df\")>, <selenium.webdriver.remote.webelement.WebElement (session=\"7e481020a6a7980d7b44f3d7e77f4867\", element=\"4fb6fd2f-a53d-4d92-b982-fcfe1ce8a21c\")>, <selenium.webdriver.remote.webelement.WebElement (session=\"7e481020a6a7980d7b44f3d7e77f4867\", element=\"e8d602f3-1e83-4585-abc9-8196cd1e3ca4\")>, <selenium.webdriver.remote.webelement.WebElement (session=\"7e481020a6a7980d7b44f3d7e77f4867\", element=\"47ccaf44-c925-4008-befe-2d9a1e2c5023\")>, <selenium.webdriver.remote.webelement.WebElement (session=\"7e481020a6a7980d7b44f3d7e77f4867\", element=\"360d8af6-4b40-4a07-a2ad-b4386d2f5c06\")>, <selenium.webdriver.remote.webelement.WebElement (session=\"7e481020a6a7980d7b44f3d7e77f4867\", element=\"efb8f89d-b50a-400d-b55a-7e652a6ee1f9\")>, <selenium.webdriver.remote.webelement.WebElement (session=\"7e481020a6a7980d7b44f3d7e77f4867\", element=\"266c6a77-2686-4ba9-bebb-68a3fd94f1dd\")>, <selenium.webdriver.remote.webelement.WebElement (session=\"7e481020a6a7980d7b44f3d7e77f4867\", element=\"f7db45ee-ea1d-4e6a-ab66-1f73ac306cb2\")>]\n",
      "{'Model': '2019\\nSUBARU FORESTER\\nSport SUV 4D', 'Price': '$35,990', 'Car_Highlights': ['Rear Air Vents', 'Power Seat Controls', 'Bluetooth\\nExplore in 360', 'Infotainment System', 'Backup Camera\\nExplore in 360', 'Heated Seats\\nExplore in 360', 'Blind Spot Warning\\nExplore in 360', 'Lane Departure\\nExplore in 360', 'No Reported Accidents\\nView Report']}\n",
      "[<selenium.webdriver.remote.webelement.WebElement (session=\"7e481020a6a7980d7b44f3d7e77f4867\", element=\"a4548bef-ca41-4754-9792-e599990d7ae0\")>, <selenium.webdriver.remote.webelement.WebElement (session=\"7e481020a6a7980d7b44f3d7e77f4867\", element=\"670e407d-fa79-4b2f-9dc4-456e9472cd30\")>, <selenium.webdriver.remote.webelement.WebElement (session=\"7e481020a6a7980d7b44f3d7e77f4867\", element=\"d4bdb376-d21b-4a15-94d8-6d1541a192b8\")>, <selenium.webdriver.remote.webelement.WebElement (session=\"7e481020a6a7980d7b44f3d7e77f4867\", element=\"1734c578-0456-42b7-bcd1-631e85a72c1b\")>, <selenium.webdriver.remote.webelement.WebElement (session=\"7e481020a6a7980d7b44f3d7e77f4867\", element=\"ea83e922-59a4-4ca3-a6f2-e7d87eb2a510\")>, <selenium.webdriver.remote.webelement.WebElement (session=\"7e481020a6a7980d7b44f3d7e77f4867\", element=\"98ca6913-bab2-4229-adad-266b8831054a\")>, <selenium.webdriver.remote.webelement.WebElement (session=\"7e481020a6a7980d7b44f3d7e77f4867\", element=\"08dfc907-a063-44b1-aad7-572ac83ba303\")>, <selenium.webdriver.remote.webelement.WebElement (session=\"7e481020a6a7980d7b44f3d7e77f4867\", element=\"4e55cac9-5cc0-4580-88cb-fe281122004d\")>, <selenium.webdriver.remote.webelement.WebElement (session=\"7e481020a6a7980d7b44f3d7e77f4867\", element=\"4797f793-1181-4b60-996d-ae4d71d3b231\")>]\n",
      "{'Model': '2020\\nSUBARU FORESTER\\nPremium Sport Utility 4D', 'Price': '$31,990', 'Car_Highlights': ['Rear Air Vents', 'Heated Seats\\nExplore in 360', 'Power Seat Controls', 'Infotainment System', 'Backup Camera\\nExplore in 360', 'Universal Garage Door Opener\\nExplore in 360', 'Hands Free Calling', 'Bluetooth Music', 'No Reported Accidents\\nView Report']}\n",
      "[<selenium.webdriver.remote.webelement.WebElement (session=\"7e481020a6a7980d7b44f3d7e77f4867\", element=\"ef53d7ec-f2ad-4e93-8b9b-5d28fec3f659\")>, <selenium.webdriver.remote.webelement.WebElement (session=\"7e481020a6a7980d7b44f3d7e77f4867\", element=\"68561bfd-6137-48b7-b2c2-a0a85f928d34\")>, <selenium.webdriver.remote.webelement.WebElement (session=\"7e481020a6a7980d7b44f3d7e77f4867\", element=\"422d9b5d-14d4-459a-a033-808c102e38d1\")>, <selenium.webdriver.remote.webelement.WebElement (session=\"7e481020a6a7980d7b44f3d7e77f4867\", element=\"13df2d32-6391-4a57-9916-57197e0dd342\")>, <selenium.webdriver.remote.webelement.WebElement (session=\"7e481020a6a7980d7b44f3d7e77f4867\", element=\"5da7cac0-e333-409a-b45a-c03a2cefd07a\")>, <selenium.webdriver.remote.webelement.WebElement (session=\"7e481020a6a7980d7b44f3d7e77f4867\", element=\"002e761b-3b87-4442-b049-4f8f63ce7261\")>, <selenium.webdriver.remote.webelement.WebElement (session=\"7e481020a6a7980d7b44f3d7e77f4867\", element=\"11245470-3df5-4aa5-bf66-d00f789798d5\")>, <selenium.webdriver.remote.webelement.WebElement (session=\"7e481020a6a7980d7b44f3d7e77f4867\", element=\"8cb79297-d197-4d65-b956-cc1dda85b637\")>, <selenium.webdriver.remote.webelement.WebElement (session=\"7e481020a6a7980d7b44f3d7e77f4867\", element=\"6f6a55c2-4fb6-43d1-a00a-a976bbaa41d1\")>]\n",
      "{'Model': '2020\\nSUBARU FORESTER\\nSport SUV 4D', 'Price': '$33,990', 'Car_Highlights': ['Rear Air Vents', 'Heated Seats\\nExplore in 360', 'Power Seat Controls', 'Blind Spot Monitor\\nExplore in 360', 'Bluetooth\\nExplore in 360', 'Infotainment System', 'Backup Camera\\nExplore in 360', 'Hands Free Calling', 'No Reported Accidents\\nView Report']}\n",
      "[<selenium.webdriver.remote.webelement.WebElement (session=\"7e481020a6a7980d7b44f3d7e77f4867\", element=\"56555222-2726-4113-9bcf-61c9df3ab251\")>, <selenium.webdriver.remote.webelement.WebElement (session=\"7e481020a6a7980d7b44f3d7e77f4867\", element=\"ffe498a3-1fc2-4ab9-a964-113e815f68a4\")>, <selenium.webdriver.remote.webelement.WebElement (session=\"7e481020a6a7980d7b44f3d7e77f4867\", element=\"b7fbd4ca-b923-489e-ba75-618eb7d57593\")>, <selenium.webdriver.remote.webelement.WebElement (session=\"7e481020a6a7980d7b44f3d7e77f4867\", element=\"6cafbbb9-befa-4fc9-a56d-ff2645ab2e3a\")>, <selenium.webdriver.remote.webelement.WebElement (session=\"7e481020a6a7980d7b44f3d7e77f4867\", element=\"54cab6a3-70b9-409f-b7b9-9a5e373eaeb9\")>, <selenium.webdriver.remote.webelement.WebElement (session=\"7e481020a6a7980d7b44f3d7e77f4867\", element=\"47257923-21e7-49c3-9f84-576db4a335a3\")>, <selenium.webdriver.remote.webelement.WebElement (session=\"7e481020a6a7980d7b44f3d7e77f4867\", element=\"e1df59cd-fa90-4a52-bba8-94c2f147e514\")>, <selenium.webdriver.remote.webelement.WebElement (session=\"7e481020a6a7980d7b44f3d7e77f4867\", element=\"47678c9d-8100-4b15-8345-587578731aff\")>, <selenium.webdriver.remote.webelement.WebElement (session=\"7e481020a6a7980d7b44f3d7e77f4867\", element=\"7be4a267-2526-42ee-9721-7e437bf742c7\")>]\n"
     ]
    },
    {
     "name": "stdout",
     "output_type": "stream",
     "text": [
      "{'Model': '2020\\nSUBARU FORESTER\\nSport SUV 4D', 'Price': '$33,590', 'Car_Highlights': ['Rear Air Vents', 'Power Seat Controls', 'Blind Spot Warning\\nExplore in 360', 'Screen', 'Backup Camera\\nExplore in 360', 'Heated Seats\\nExplore in 360', 'Hands Free Calling', 'Bluetooth Music', 'No Reported Accidents\\nView Report']}\n",
      "[<selenium.webdriver.remote.webelement.WebElement (session=\"7e481020a6a7980d7b44f3d7e77f4867\", element=\"0dc84f8c-6858-4808-af71-a6cba50ba550\")>, <selenium.webdriver.remote.webelement.WebElement (session=\"7e481020a6a7980d7b44f3d7e77f4867\", element=\"72e2f0f1-bca3-496e-bc44-62399485669a\")>, <selenium.webdriver.remote.webelement.WebElement (session=\"7e481020a6a7980d7b44f3d7e77f4867\", element=\"73e70ef1-8720-4413-b776-c4dcc68a9eee\")>, <selenium.webdriver.remote.webelement.WebElement (session=\"7e481020a6a7980d7b44f3d7e77f4867\", element=\"a5d4dbec-fbfc-459a-975e-1e2f1b2914ea\")>, <selenium.webdriver.remote.webelement.WebElement (session=\"7e481020a6a7980d7b44f3d7e77f4867\", element=\"13cf7dad-7c21-4b56-af97-22e054df1b9a\")>, <selenium.webdriver.remote.webelement.WebElement (session=\"7e481020a6a7980d7b44f3d7e77f4867\", element=\"c04511f4-285f-4f47-9dea-9494e00719c9\")>, <selenium.webdriver.remote.webelement.WebElement (session=\"7e481020a6a7980d7b44f3d7e77f4867\", element=\"b8d4423b-882e-499a-a85f-109dc07824ca\")>, <selenium.webdriver.remote.webelement.WebElement (session=\"7e481020a6a7980d7b44f3d7e77f4867\", element=\"8112c504-60eb-40ab-bdd7-7d1a4ae95284\")>, <selenium.webdriver.remote.webelement.WebElement (session=\"7e481020a6a7980d7b44f3d7e77f4867\", element=\"4e4981f6-f2ae-4094-b56a-35cadd614464\")>]\n",
      "{'Model': '2020\\nSUBARU FORESTER\\nPremium Sport Utility 4D', 'Price': '$34,990', 'Car_Highlights': ['Rear Air Vents / Controls', 'Heated Seats\\nExplore in 360', 'Power Seat Controls', 'Blind Spot Warning\\nExplore in 360', 'Infotainment System', 'Backup Camera\\nExplore in 360', 'Hands Free Calling', 'Bluetooth Music', 'No Reported Accidents\\nView Report']}\n",
      "[<selenium.webdriver.remote.webelement.WebElement (session=\"7e481020a6a7980d7b44f3d7e77f4867\", element=\"86c07248-207d-4162-981a-4e2d1ad424a5\")>, <selenium.webdriver.remote.webelement.WebElement (session=\"7e481020a6a7980d7b44f3d7e77f4867\", element=\"aaaebdb7-f764-4a67-9322-e2ba9cd89be5\")>, <selenium.webdriver.remote.webelement.WebElement (session=\"7e481020a6a7980d7b44f3d7e77f4867\", element=\"eaf8c668-fd9c-41dd-b54c-ef6d36ef2cd0\")>, <selenium.webdriver.remote.webelement.WebElement (session=\"7e481020a6a7980d7b44f3d7e77f4867\", element=\"245ccc5c-315e-4a9d-82d9-3ce81be91833\")>, <selenium.webdriver.remote.webelement.WebElement (session=\"7e481020a6a7980d7b44f3d7e77f4867\", element=\"cf2ee273-57de-4bea-8e98-4bc9af0e63ca\")>, <selenium.webdriver.remote.webelement.WebElement (session=\"7e481020a6a7980d7b44f3d7e77f4867\", element=\"9eaccedd-dadf-41db-8c3a-cd0fd38b670d\")>, <selenium.webdriver.remote.webelement.WebElement (session=\"7e481020a6a7980d7b44f3d7e77f4867\", element=\"248dfa51-048c-426b-b723-52a4cdd46862\")>, <selenium.webdriver.remote.webelement.WebElement (session=\"7e481020a6a7980d7b44f3d7e77f4867\", element=\"9b1b5ad2-c05f-43ab-8c39-1770b2ea9408\")>, <selenium.webdriver.remote.webelement.WebElement (session=\"7e481020a6a7980d7b44f3d7e77f4867\", element=\"1867a21f-91f9-48e5-a8da-f81b2d804492\")>]\n",
      "{'Model': '2019\\nSUBARU FORESTER\\nSport SUV 4D', 'Price': '$34,590', 'Car_Highlights': ['Rear Air Vents', 'Power Seat Controls', 'Infotainment System', 'Backup Camera\\nExplore in 360', 'Heated Seats\\nExplore in 360', 'Lane Departure Warning\\nExplore in 360', 'Hands Free Calling', 'Bluetooth Music', 'No Reported Accidents\\nView Report']}\n",
      "[<selenium.webdriver.remote.webelement.WebElement (session=\"7e481020a6a7980d7b44f3d7e77f4867\", element=\"36ebcefb-5b48-4e74-bab1-d26e258d6377\")>, <selenium.webdriver.remote.webelement.WebElement (session=\"7e481020a6a7980d7b44f3d7e77f4867\", element=\"34585247-df19-4992-bc0a-9b584fa5592b\")>, <selenium.webdriver.remote.webelement.WebElement (session=\"7e481020a6a7980d7b44f3d7e77f4867\", element=\"0cbe1d86-7a85-4af0-95ba-a007125ef25a\")>, <selenium.webdriver.remote.webelement.WebElement (session=\"7e481020a6a7980d7b44f3d7e77f4867\", element=\"90e26c05-5674-4dfe-880d-dd34c6997877\")>, <selenium.webdriver.remote.webelement.WebElement (session=\"7e481020a6a7980d7b44f3d7e77f4867\", element=\"a332bc80-f246-43c0-8251-9a45d04372a0\")>, <selenium.webdriver.remote.webelement.WebElement (session=\"7e481020a6a7980d7b44f3d7e77f4867\", element=\"e1964857-3480-41d9-a1a6-ef23c815db7b\")>, <selenium.webdriver.remote.webelement.WebElement (session=\"7e481020a6a7980d7b44f3d7e77f4867\", element=\"ba52211b-6482-4bd8-a823-026c554770f1\")>, <selenium.webdriver.remote.webelement.WebElement (session=\"7e481020a6a7980d7b44f3d7e77f4867\", element=\"339ebb4f-9b57-4118-9b76-c0a76cfe689f\")>, <selenium.webdriver.remote.webelement.WebElement (session=\"7e481020a6a7980d7b44f3d7e77f4867\", element=\"62ccd5de-0793-4115-ac64-d458e4a82493\")>]\n",
      "{'Model': '2020\\nSUBARU FORESTER\\nTouring Sport Utility 4D', 'Price': '$37,590', 'Car_Highlights': ['Rear Heated Seats\\nExplore in 360', 'Power Seat Controls', 'Screen', 'Navigation\\nExplore in 360', 'Backup Camera\\nExplore in 360', 'Lane Departure\\nExplore in 360', 'Blind Spot Warning\\nExplore in 360', 'Heated Seats\\nExplore in 360', 'No Reported Accidents\\nView Report']}\n"
     ]
    },
    {
     "ename": "KeyboardInterrupt",
     "evalue": "",
     "output_type": "error",
     "traceback": [
      "\u001b[1;31m---------------------------------------------------------------------------\u001b[0m",
      "\u001b[1;31mKeyboardInterrupt\u001b[0m                         Traceback (most recent call last)",
      "\u001b[1;32m<ipython-input-47-f297a3680575>\u001b[0m in \u001b[0;36m<module>\u001b[1;34m\u001b[0m\n\u001b[0;32m     25\u001b[0m         \u001b[1;31m#print(links)\u001b[0m\u001b[1;33m\u001b[0m\u001b[1;33m\u001b[0m\u001b[1;33m\u001b[0m\u001b[0m\n\u001b[0;32m     26\u001b[0m     \u001b[1;32mfor\u001b[0m \u001b[0mi\u001b[0m \u001b[1;32min\u001b[0m \u001b[0mrange\u001b[0m\u001b[1;33m(\u001b[0m\u001b[0mlen\u001b[0m\u001b[1;33m(\u001b[0m\u001b[0mlinks\u001b[0m\u001b[1;33m)\u001b[0m\u001b[1;33m)\u001b[0m\u001b[1;33m:\u001b[0m\u001b[1;33m\u001b[0m\u001b[1;33m\u001b[0m\u001b[0m\n\u001b[1;32m---> 27\u001b[1;33m         \u001b[0mdriver\u001b[0m\u001b[1;33m.\u001b[0m\u001b[0mget\u001b[0m\u001b[1;33m(\u001b[0m\u001b[0mlinks\u001b[0m\u001b[1;33m[\u001b[0m\u001b[0mi\u001b[0m\u001b[1;33m]\u001b[0m\u001b[1;33m)\u001b[0m\u001b[1;33m\u001b[0m\u001b[1;33m\u001b[0m\u001b[0m\n\u001b[0m\u001b[0;32m     28\u001b[0m         \u001b[0mdriver\u001b[0m\u001b[1;33m.\u001b[0m\u001b[0mimplicitly_wait\u001b[0m\u001b[1;33m(\u001b[0m\u001b[1;36m20\u001b[0m\u001b[1;33m)\u001b[0m\u001b[1;33m\u001b[0m\u001b[1;33m\u001b[0m\u001b[0m\n\u001b[0;32m     29\u001b[0m         \u001b[1;31m#driver.find_element(By.CLASS_NAME,value = \"unpositioned-element\").click()\u001b[0m\u001b[1;33m\u001b[0m\u001b[1;33m\u001b[0m\u001b[1;33m\u001b[0m\u001b[0m\n",
      "\u001b[1;32m~\\anaconda3\\lib\\site-packages\\selenium\\webdriver\\remote\\webdriver.py\u001b[0m in \u001b[0;36mget\u001b[1;34m(self, url)\u001b[0m\n\u001b[0;32m    434\u001b[0m         \u001b[0mLoads\u001b[0m \u001b[0ma\u001b[0m \u001b[0mweb\u001b[0m \u001b[0mpage\u001b[0m \u001b[1;32min\u001b[0m \u001b[0mthe\u001b[0m \u001b[0mcurrent\u001b[0m \u001b[0mbrowser\u001b[0m \u001b[0msession\u001b[0m\u001b[1;33m.\u001b[0m\u001b[1;33m\u001b[0m\u001b[1;33m\u001b[0m\u001b[0m\n\u001b[0;32m    435\u001b[0m         \"\"\"\n\u001b[1;32m--> 436\u001b[1;33m         \u001b[0mself\u001b[0m\u001b[1;33m.\u001b[0m\u001b[0mexecute\u001b[0m\u001b[1;33m(\u001b[0m\u001b[0mCommand\u001b[0m\u001b[1;33m.\u001b[0m\u001b[0mGET\u001b[0m\u001b[1;33m,\u001b[0m \u001b[1;33m{\u001b[0m\u001b[1;34m'url'\u001b[0m\u001b[1;33m:\u001b[0m \u001b[0murl\u001b[0m\u001b[1;33m}\u001b[0m\u001b[1;33m)\u001b[0m\u001b[1;33m\u001b[0m\u001b[1;33m\u001b[0m\u001b[0m\n\u001b[0m\u001b[0;32m    437\u001b[0m \u001b[1;33m\u001b[0m\u001b[0m\n\u001b[0;32m    438\u001b[0m     \u001b[1;33m@\u001b[0m\u001b[0mproperty\u001b[0m\u001b[1;33m\u001b[0m\u001b[1;33m\u001b[0m\u001b[0m\n",
      "\u001b[1;32m~\\anaconda3\\lib\\site-packages\\selenium\\webdriver\\remote\\webdriver.py\u001b[0m in \u001b[0;36mexecute\u001b[1;34m(self, driver_command, params)\u001b[0m\n\u001b[0;32m    420\u001b[0m \u001b[1;33m\u001b[0m\u001b[0m\n\u001b[0;32m    421\u001b[0m         \u001b[0mparams\u001b[0m \u001b[1;33m=\u001b[0m \u001b[0mself\u001b[0m\u001b[1;33m.\u001b[0m\u001b[0m_wrap_value\u001b[0m\u001b[1;33m(\u001b[0m\u001b[0mparams\u001b[0m\u001b[1;33m)\u001b[0m\u001b[1;33m\u001b[0m\u001b[1;33m\u001b[0m\u001b[0m\n\u001b[1;32m--> 422\u001b[1;33m         \u001b[0mresponse\u001b[0m \u001b[1;33m=\u001b[0m \u001b[0mself\u001b[0m\u001b[1;33m.\u001b[0m\u001b[0mcommand_executor\u001b[0m\u001b[1;33m.\u001b[0m\u001b[0mexecute\u001b[0m\u001b[1;33m(\u001b[0m\u001b[0mdriver_command\u001b[0m\u001b[1;33m,\u001b[0m \u001b[0mparams\u001b[0m\u001b[1;33m)\u001b[0m\u001b[1;33m\u001b[0m\u001b[1;33m\u001b[0m\u001b[0m\n\u001b[0m\u001b[0;32m    423\u001b[0m         \u001b[1;32mif\u001b[0m \u001b[0mresponse\u001b[0m\u001b[1;33m:\u001b[0m\u001b[1;33m\u001b[0m\u001b[1;33m\u001b[0m\u001b[0m\n\u001b[0;32m    424\u001b[0m             \u001b[0mself\u001b[0m\u001b[1;33m.\u001b[0m\u001b[0merror_handler\u001b[0m\u001b[1;33m.\u001b[0m\u001b[0mcheck_response\u001b[0m\u001b[1;33m(\u001b[0m\u001b[0mresponse\u001b[0m\u001b[1;33m)\u001b[0m\u001b[1;33m\u001b[0m\u001b[1;33m\u001b[0m\u001b[0m\n",
      "\u001b[1;32m~\\anaconda3\\lib\\site-packages\\selenium\\webdriver\\remote\\remote_connection.py\u001b[0m in \u001b[0;36mexecute\u001b[1;34m(self, command, params)\u001b[0m\n\u001b[0;32m    419\u001b[0m         \u001b[0mdata\u001b[0m \u001b[1;33m=\u001b[0m \u001b[0mutils\u001b[0m\u001b[1;33m.\u001b[0m\u001b[0mdump_json\u001b[0m\u001b[1;33m(\u001b[0m\u001b[0mparams\u001b[0m\u001b[1;33m)\u001b[0m\u001b[1;33m\u001b[0m\u001b[1;33m\u001b[0m\u001b[0m\n\u001b[0;32m    420\u001b[0m         \u001b[0murl\u001b[0m \u001b[1;33m=\u001b[0m \u001b[1;34mf\"{self._url}{path}\"\u001b[0m\u001b[1;33m\u001b[0m\u001b[1;33m\u001b[0m\u001b[0m\n\u001b[1;32m--> 421\u001b[1;33m         \u001b[1;32mreturn\u001b[0m \u001b[0mself\u001b[0m\u001b[1;33m.\u001b[0m\u001b[0m_request\u001b[0m\u001b[1;33m(\u001b[0m\u001b[0mcommand_info\u001b[0m\u001b[1;33m[\u001b[0m\u001b[1;36m0\u001b[0m\u001b[1;33m]\u001b[0m\u001b[1;33m,\u001b[0m \u001b[0murl\u001b[0m\u001b[1;33m,\u001b[0m \u001b[0mbody\u001b[0m\u001b[1;33m=\u001b[0m\u001b[0mdata\u001b[0m\u001b[1;33m)\u001b[0m\u001b[1;33m\u001b[0m\u001b[1;33m\u001b[0m\u001b[0m\n\u001b[0m\u001b[0;32m    422\u001b[0m \u001b[1;33m\u001b[0m\u001b[0m\n\u001b[0;32m    423\u001b[0m     \u001b[1;32mdef\u001b[0m \u001b[0m_request\u001b[0m\u001b[1;33m(\u001b[0m\u001b[0mself\u001b[0m\u001b[1;33m,\u001b[0m \u001b[0mmethod\u001b[0m\u001b[1;33m,\u001b[0m \u001b[0murl\u001b[0m\u001b[1;33m,\u001b[0m \u001b[0mbody\u001b[0m\u001b[1;33m=\u001b[0m\u001b[1;32mNone\u001b[0m\u001b[1;33m)\u001b[0m\u001b[1;33m:\u001b[0m\u001b[1;33m\u001b[0m\u001b[1;33m\u001b[0m\u001b[0m\n",
      "\u001b[1;32m~\\anaconda3\\lib\\site-packages\\selenium\\webdriver\\remote\\remote_connection.py\u001b[0m in \u001b[0;36m_request\u001b[1;34m(self, method, url, body)\u001b[0m\n\u001b[0;32m    441\u001b[0m \u001b[1;33m\u001b[0m\u001b[0m\n\u001b[0;32m    442\u001b[0m         \u001b[1;32mif\u001b[0m \u001b[0mself\u001b[0m\u001b[1;33m.\u001b[0m\u001b[0mkeep_alive\u001b[0m\u001b[1;33m:\u001b[0m\u001b[1;33m\u001b[0m\u001b[1;33m\u001b[0m\u001b[0m\n\u001b[1;32m--> 443\u001b[1;33m             \u001b[0mresp\u001b[0m \u001b[1;33m=\u001b[0m \u001b[0mself\u001b[0m\u001b[1;33m.\u001b[0m\u001b[0m_conn\u001b[0m\u001b[1;33m.\u001b[0m\u001b[0mrequest\u001b[0m\u001b[1;33m(\u001b[0m\u001b[0mmethod\u001b[0m\u001b[1;33m,\u001b[0m \u001b[0murl\u001b[0m\u001b[1;33m,\u001b[0m \u001b[0mbody\u001b[0m\u001b[1;33m=\u001b[0m\u001b[0mbody\u001b[0m\u001b[1;33m,\u001b[0m \u001b[0mheaders\u001b[0m\u001b[1;33m=\u001b[0m\u001b[0mheaders\u001b[0m\u001b[1;33m)\u001b[0m\u001b[1;33m\u001b[0m\u001b[1;33m\u001b[0m\u001b[0m\n\u001b[0m\u001b[0;32m    444\u001b[0m             \u001b[0mstatuscode\u001b[0m \u001b[1;33m=\u001b[0m \u001b[0mresp\u001b[0m\u001b[1;33m.\u001b[0m\u001b[0mstatus\u001b[0m\u001b[1;33m\u001b[0m\u001b[1;33m\u001b[0m\u001b[0m\n\u001b[0;32m    445\u001b[0m         \u001b[1;32melse\u001b[0m\u001b[1;33m:\u001b[0m\u001b[1;33m\u001b[0m\u001b[1;33m\u001b[0m\u001b[0m\n",
      "\u001b[1;32m~\\anaconda3\\lib\\site-packages\\urllib3\\request.py\u001b[0m in \u001b[0;36mrequest\u001b[1;34m(self, method, url, fields, headers, **urlopen_kw)\u001b[0m\n\u001b[0;32m     76\u001b[0m             )\n\u001b[0;32m     77\u001b[0m         \u001b[1;32melse\u001b[0m\u001b[1;33m:\u001b[0m\u001b[1;33m\u001b[0m\u001b[1;33m\u001b[0m\u001b[0m\n\u001b[1;32m---> 78\u001b[1;33m             return self.request_encode_body(\n\u001b[0m\u001b[0;32m     79\u001b[0m                 \u001b[0mmethod\u001b[0m\u001b[1;33m,\u001b[0m \u001b[0murl\u001b[0m\u001b[1;33m,\u001b[0m \u001b[0mfields\u001b[0m\u001b[1;33m=\u001b[0m\u001b[0mfields\u001b[0m\u001b[1;33m,\u001b[0m \u001b[0mheaders\u001b[0m\u001b[1;33m=\u001b[0m\u001b[0mheaders\u001b[0m\u001b[1;33m,\u001b[0m \u001b[1;33m**\u001b[0m\u001b[0murlopen_kw\u001b[0m\u001b[1;33m\u001b[0m\u001b[1;33m\u001b[0m\u001b[0m\n\u001b[0;32m     80\u001b[0m             )\n",
      "\u001b[1;32m~\\anaconda3\\lib\\site-packages\\urllib3\\request.py\u001b[0m in \u001b[0;36mrequest_encode_body\u001b[1;34m(self, method, url, fields, headers, encode_multipart, multipart_boundary, **urlopen_kw)\u001b[0m\n\u001b[0;32m    168\u001b[0m         \u001b[0mextra_kw\u001b[0m\u001b[1;33m.\u001b[0m\u001b[0mupdate\u001b[0m\u001b[1;33m(\u001b[0m\u001b[0murlopen_kw\u001b[0m\u001b[1;33m)\u001b[0m\u001b[1;33m\u001b[0m\u001b[1;33m\u001b[0m\u001b[0m\n\u001b[0;32m    169\u001b[0m \u001b[1;33m\u001b[0m\u001b[0m\n\u001b[1;32m--> 170\u001b[1;33m         \u001b[1;32mreturn\u001b[0m \u001b[0mself\u001b[0m\u001b[1;33m.\u001b[0m\u001b[0murlopen\u001b[0m\u001b[1;33m(\u001b[0m\u001b[0mmethod\u001b[0m\u001b[1;33m,\u001b[0m \u001b[0murl\u001b[0m\u001b[1;33m,\u001b[0m \u001b[1;33m**\u001b[0m\u001b[0mextra_kw\u001b[0m\u001b[1;33m)\u001b[0m\u001b[1;33m\u001b[0m\u001b[1;33m\u001b[0m\u001b[0m\n\u001b[0m",
      "\u001b[1;32m~\\anaconda3\\lib\\site-packages\\urllib3\\poolmanager.py\u001b[0m in \u001b[0;36murlopen\u001b[1;34m(self, method, url, redirect, **kw)\u001b[0m\n\u001b[0;32m    373\u001b[0m             \u001b[0mresponse\u001b[0m \u001b[1;33m=\u001b[0m \u001b[0mconn\u001b[0m\u001b[1;33m.\u001b[0m\u001b[0murlopen\u001b[0m\u001b[1;33m(\u001b[0m\u001b[0mmethod\u001b[0m\u001b[1;33m,\u001b[0m \u001b[0murl\u001b[0m\u001b[1;33m,\u001b[0m \u001b[1;33m**\u001b[0m\u001b[0mkw\u001b[0m\u001b[1;33m)\u001b[0m\u001b[1;33m\u001b[0m\u001b[1;33m\u001b[0m\u001b[0m\n\u001b[0;32m    374\u001b[0m         \u001b[1;32melse\u001b[0m\u001b[1;33m:\u001b[0m\u001b[1;33m\u001b[0m\u001b[1;33m\u001b[0m\u001b[0m\n\u001b[1;32m--> 375\u001b[1;33m             \u001b[0mresponse\u001b[0m \u001b[1;33m=\u001b[0m \u001b[0mconn\u001b[0m\u001b[1;33m.\u001b[0m\u001b[0murlopen\u001b[0m\u001b[1;33m(\u001b[0m\u001b[0mmethod\u001b[0m\u001b[1;33m,\u001b[0m \u001b[0mu\u001b[0m\u001b[1;33m.\u001b[0m\u001b[0mrequest_uri\u001b[0m\u001b[1;33m,\u001b[0m \u001b[1;33m**\u001b[0m\u001b[0mkw\u001b[0m\u001b[1;33m)\u001b[0m\u001b[1;33m\u001b[0m\u001b[1;33m\u001b[0m\u001b[0m\n\u001b[0m\u001b[0;32m    376\u001b[0m \u001b[1;33m\u001b[0m\u001b[0m\n\u001b[0;32m    377\u001b[0m         \u001b[0mredirect_location\u001b[0m \u001b[1;33m=\u001b[0m \u001b[0mredirect\u001b[0m \u001b[1;32mand\u001b[0m \u001b[0mresponse\u001b[0m\u001b[1;33m.\u001b[0m\u001b[0mget_redirect_location\u001b[0m\u001b[1;33m(\u001b[0m\u001b[1;33m)\u001b[0m\u001b[1;33m\u001b[0m\u001b[1;33m\u001b[0m\u001b[0m\n",
      "\u001b[1;32m~\\anaconda3\\lib\\site-packages\\urllib3\\connectionpool.py\u001b[0m in \u001b[0;36murlopen\u001b[1;34m(self, method, url, body, headers, retries, redirect, assert_same_host, timeout, pool_timeout, release_conn, chunked, body_pos, **response_kw)\u001b[0m\n\u001b[0;32m    697\u001b[0m \u001b[1;33m\u001b[0m\u001b[0m\n\u001b[0;32m    698\u001b[0m             \u001b[1;31m# Make the request on the httplib connection object.\u001b[0m\u001b[1;33m\u001b[0m\u001b[1;33m\u001b[0m\u001b[1;33m\u001b[0m\u001b[0m\n\u001b[1;32m--> 699\u001b[1;33m             httplib_response = self._make_request(\n\u001b[0m\u001b[0;32m    700\u001b[0m                 \u001b[0mconn\u001b[0m\u001b[1;33m,\u001b[0m\u001b[1;33m\u001b[0m\u001b[1;33m\u001b[0m\u001b[0m\n\u001b[0;32m    701\u001b[0m                 \u001b[0mmethod\u001b[0m\u001b[1;33m,\u001b[0m\u001b[1;33m\u001b[0m\u001b[1;33m\u001b[0m\u001b[0m\n",
      "\u001b[1;32m~\\anaconda3\\lib\\site-packages\\urllib3\\connectionpool.py\u001b[0m in \u001b[0;36m_make_request\u001b[1;34m(self, conn, method, url, timeout, chunked, **httplib_request_kw)\u001b[0m\n\u001b[0;32m    443\u001b[0m                     \u001b[1;31m# Python 3 (including for exceptions like SystemExit).\u001b[0m\u001b[1;33m\u001b[0m\u001b[1;33m\u001b[0m\u001b[1;33m\u001b[0m\u001b[0m\n\u001b[0;32m    444\u001b[0m                     \u001b[1;31m# Otherwise it looks like a bug in the code.\u001b[0m\u001b[1;33m\u001b[0m\u001b[1;33m\u001b[0m\u001b[1;33m\u001b[0m\u001b[0m\n\u001b[1;32m--> 445\u001b[1;33m                     \u001b[0msix\u001b[0m\u001b[1;33m.\u001b[0m\u001b[0mraise_from\u001b[0m\u001b[1;33m(\u001b[0m\u001b[0me\u001b[0m\u001b[1;33m,\u001b[0m \u001b[1;32mNone\u001b[0m\u001b[1;33m)\u001b[0m\u001b[1;33m\u001b[0m\u001b[1;33m\u001b[0m\u001b[0m\n\u001b[0m\u001b[0;32m    446\u001b[0m         \u001b[1;32mexcept\u001b[0m \u001b[1;33m(\u001b[0m\u001b[0mSocketTimeout\u001b[0m\u001b[1;33m,\u001b[0m \u001b[0mBaseSSLError\u001b[0m\u001b[1;33m,\u001b[0m \u001b[0mSocketError\u001b[0m\u001b[1;33m)\u001b[0m \u001b[1;32mas\u001b[0m \u001b[0me\u001b[0m\u001b[1;33m:\u001b[0m\u001b[1;33m\u001b[0m\u001b[1;33m\u001b[0m\u001b[0m\n\u001b[0;32m    447\u001b[0m             \u001b[0mself\u001b[0m\u001b[1;33m.\u001b[0m\u001b[0m_raise_timeout\u001b[0m\u001b[1;33m(\u001b[0m\u001b[0merr\u001b[0m\u001b[1;33m=\u001b[0m\u001b[0me\u001b[0m\u001b[1;33m,\u001b[0m \u001b[0murl\u001b[0m\u001b[1;33m=\u001b[0m\u001b[0murl\u001b[0m\u001b[1;33m,\u001b[0m \u001b[0mtimeout_value\u001b[0m\u001b[1;33m=\u001b[0m\u001b[0mread_timeout\u001b[0m\u001b[1;33m)\u001b[0m\u001b[1;33m\u001b[0m\u001b[1;33m\u001b[0m\u001b[0m\n",
      "\u001b[1;32m~\\anaconda3\\lib\\site-packages\\urllib3\\packages\\six.py\u001b[0m in \u001b[0;36mraise_from\u001b[1;34m(value, from_value)\u001b[0m\n",
      "\u001b[1;32m~\\anaconda3\\lib\\site-packages\\urllib3\\connectionpool.py\u001b[0m in \u001b[0;36m_make_request\u001b[1;34m(self, conn, method, url, timeout, chunked, **httplib_request_kw)\u001b[0m\n\u001b[0;32m    438\u001b[0m                 \u001b[1;31m# Python 3\u001b[0m\u001b[1;33m\u001b[0m\u001b[1;33m\u001b[0m\u001b[1;33m\u001b[0m\u001b[0m\n\u001b[0;32m    439\u001b[0m                 \u001b[1;32mtry\u001b[0m\u001b[1;33m:\u001b[0m\u001b[1;33m\u001b[0m\u001b[1;33m\u001b[0m\u001b[0m\n\u001b[1;32m--> 440\u001b[1;33m                     \u001b[0mhttplib_response\u001b[0m \u001b[1;33m=\u001b[0m \u001b[0mconn\u001b[0m\u001b[1;33m.\u001b[0m\u001b[0mgetresponse\u001b[0m\u001b[1;33m(\u001b[0m\u001b[1;33m)\u001b[0m\u001b[1;33m\u001b[0m\u001b[1;33m\u001b[0m\u001b[0m\n\u001b[0m\u001b[0;32m    441\u001b[0m                 \u001b[1;32mexcept\u001b[0m \u001b[0mBaseException\u001b[0m \u001b[1;32mas\u001b[0m \u001b[0me\u001b[0m\u001b[1;33m:\u001b[0m\u001b[1;33m\u001b[0m\u001b[1;33m\u001b[0m\u001b[0m\n\u001b[0;32m    442\u001b[0m                     \u001b[1;31m# Remove the TypeError from the exception chain in\u001b[0m\u001b[1;33m\u001b[0m\u001b[1;33m\u001b[0m\u001b[1;33m\u001b[0m\u001b[0m\n",
      "\u001b[1;32m~\\anaconda3\\lib\\http\\client.py\u001b[0m in \u001b[0;36mgetresponse\u001b[1;34m(self)\u001b[0m\n\u001b[0;32m   1345\u001b[0m         \u001b[1;32mtry\u001b[0m\u001b[1;33m:\u001b[0m\u001b[1;33m\u001b[0m\u001b[1;33m\u001b[0m\u001b[0m\n\u001b[0;32m   1346\u001b[0m             \u001b[1;32mtry\u001b[0m\u001b[1;33m:\u001b[0m\u001b[1;33m\u001b[0m\u001b[1;33m\u001b[0m\u001b[0m\n\u001b[1;32m-> 1347\u001b[1;33m                 \u001b[0mresponse\u001b[0m\u001b[1;33m.\u001b[0m\u001b[0mbegin\u001b[0m\u001b[1;33m(\u001b[0m\u001b[1;33m)\u001b[0m\u001b[1;33m\u001b[0m\u001b[1;33m\u001b[0m\u001b[0m\n\u001b[0m\u001b[0;32m   1348\u001b[0m             \u001b[1;32mexcept\u001b[0m \u001b[0mConnectionError\u001b[0m\u001b[1;33m:\u001b[0m\u001b[1;33m\u001b[0m\u001b[1;33m\u001b[0m\u001b[0m\n\u001b[0;32m   1349\u001b[0m                 \u001b[0mself\u001b[0m\u001b[1;33m.\u001b[0m\u001b[0mclose\u001b[0m\u001b[1;33m(\u001b[0m\u001b[1;33m)\u001b[0m\u001b[1;33m\u001b[0m\u001b[1;33m\u001b[0m\u001b[0m\n",
      "\u001b[1;32m~\\anaconda3\\lib\\http\\client.py\u001b[0m in \u001b[0;36mbegin\u001b[1;34m(self)\u001b[0m\n\u001b[0;32m    305\u001b[0m         \u001b[1;31m# read until we get a non-100 response\u001b[0m\u001b[1;33m\u001b[0m\u001b[1;33m\u001b[0m\u001b[1;33m\u001b[0m\u001b[0m\n\u001b[0;32m    306\u001b[0m         \u001b[1;32mwhile\u001b[0m \u001b[1;32mTrue\u001b[0m\u001b[1;33m:\u001b[0m\u001b[1;33m\u001b[0m\u001b[1;33m\u001b[0m\u001b[0m\n\u001b[1;32m--> 307\u001b[1;33m             \u001b[0mversion\u001b[0m\u001b[1;33m,\u001b[0m \u001b[0mstatus\u001b[0m\u001b[1;33m,\u001b[0m \u001b[0mreason\u001b[0m \u001b[1;33m=\u001b[0m \u001b[0mself\u001b[0m\u001b[1;33m.\u001b[0m\u001b[0m_read_status\u001b[0m\u001b[1;33m(\u001b[0m\u001b[1;33m)\u001b[0m\u001b[1;33m\u001b[0m\u001b[1;33m\u001b[0m\u001b[0m\n\u001b[0m\u001b[0;32m    308\u001b[0m             \u001b[1;32mif\u001b[0m \u001b[0mstatus\u001b[0m \u001b[1;33m!=\u001b[0m \u001b[0mCONTINUE\u001b[0m\u001b[1;33m:\u001b[0m\u001b[1;33m\u001b[0m\u001b[1;33m\u001b[0m\u001b[0m\n\u001b[0;32m    309\u001b[0m                 \u001b[1;32mbreak\u001b[0m\u001b[1;33m\u001b[0m\u001b[1;33m\u001b[0m\u001b[0m\n",
      "\u001b[1;32m~\\anaconda3\\lib\\http\\client.py\u001b[0m in \u001b[0;36m_read_status\u001b[1;34m(self)\u001b[0m\n\u001b[0;32m    266\u001b[0m \u001b[1;33m\u001b[0m\u001b[0m\n\u001b[0;32m    267\u001b[0m     \u001b[1;32mdef\u001b[0m \u001b[0m_read_status\u001b[0m\u001b[1;33m(\u001b[0m\u001b[0mself\u001b[0m\u001b[1;33m)\u001b[0m\u001b[1;33m:\u001b[0m\u001b[1;33m\u001b[0m\u001b[1;33m\u001b[0m\u001b[0m\n\u001b[1;32m--> 268\u001b[1;33m         \u001b[0mline\u001b[0m \u001b[1;33m=\u001b[0m \u001b[0mstr\u001b[0m\u001b[1;33m(\u001b[0m\u001b[0mself\u001b[0m\u001b[1;33m.\u001b[0m\u001b[0mfp\u001b[0m\u001b[1;33m.\u001b[0m\u001b[0mreadline\u001b[0m\u001b[1;33m(\u001b[0m\u001b[0m_MAXLINE\u001b[0m \u001b[1;33m+\u001b[0m \u001b[1;36m1\u001b[0m\u001b[1;33m)\u001b[0m\u001b[1;33m,\u001b[0m \u001b[1;34m\"iso-8859-1\"\u001b[0m\u001b[1;33m)\u001b[0m\u001b[1;33m\u001b[0m\u001b[1;33m\u001b[0m\u001b[0m\n\u001b[0m\u001b[0;32m    269\u001b[0m         \u001b[1;32mif\u001b[0m \u001b[0mlen\u001b[0m\u001b[1;33m(\u001b[0m\u001b[0mline\u001b[0m\u001b[1;33m)\u001b[0m \u001b[1;33m>\u001b[0m \u001b[0m_MAXLINE\u001b[0m\u001b[1;33m:\u001b[0m\u001b[1;33m\u001b[0m\u001b[1;33m\u001b[0m\u001b[0m\n\u001b[0;32m    270\u001b[0m             \u001b[1;32mraise\u001b[0m \u001b[0mLineTooLong\u001b[0m\u001b[1;33m(\u001b[0m\u001b[1;34m\"status line\"\u001b[0m\u001b[1;33m)\u001b[0m\u001b[1;33m\u001b[0m\u001b[1;33m\u001b[0m\u001b[0m\n",
      "\u001b[1;32m~\\anaconda3\\lib\\socket.py\u001b[0m in \u001b[0;36mreadinto\u001b[1;34m(self, b)\u001b[0m\n\u001b[0;32m    667\u001b[0m         \u001b[1;32mwhile\u001b[0m \u001b[1;32mTrue\u001b[0m\u001b[1;33m:\u001b[0m\u001b[1;33m\u001b[0m\u001b[1;33m\u001b[0m\u001b[0m\n\u001b[0;32m    668\u001b[0m             \u001b[1;32mtry\u001b[0m\u001b[1;33m:\u001b[0m\u001b[1;33m\u001b[0m\u001b[1;33m\u001b[0m\u001b[0m\n\u001b[1;32m--> 669\u001b[1;33m                 \u001b[1;32mreturn\u001b[0m \u001b[0mself\u001b[0m\u001b[1;33m.\u001b[0m\u001b[0m_sock\u001b[0m\u001b[1;33m.\u001b[0m\u001b[0mrecv_into\u001b[0m\u001b[1;33m(\u001b[0m\u001b[0mb\u001b[0m\u001b[1;33m)\u001b[0m\u001b[1;33m\u001b[0m\u001b[1;33m\u001b[0m\u001b[0m\n\u001b[0m\u001b[0;32m    670\u001b[0m             \u001b[1;32mexcept\u001b[0m \u001b[0mtimeout\u001b[0m\u001b[1;33m:\u001b[0m\u001b[1;33m\u001b[0m\u001b[1;33m\u001b[0m\u001b[0m\n\u001b[0;32m    671\u001b[0m                 \u001b[0mself\u001b[0m\u001b[1;33m.\u001b[0m\u001b[0m_timeout_occurred\u001b[0m \u001b[1;33m=\u001b[0m \u001b[1;32mTrue\u001b[0m\u001b[1;33m\u001b[0m\u001b[1;33m\u001b[0m\u001b[0m\n",
      "\u001b[1;31mKeyboardInterrupt\u001b[0m: "
     ]
    }
   ],
   "source": [
    "driver = init_web_driver()\n",
    "url = \"https://www.carvana.com/cars\"\n",
    "\n",
    "navigate_to_baseurl(driver,url)\n",
    "car_to_search = \"subaru-forester\"\n",
    "df = pd.DataFrame(index = None)\n",
    "\n",
    "\n",
    "for i in range(1,17):\n",
    "    if(i==1):\n",
    "        driver.get(\"https://www.carvana.com/cars/{}\".format(car_to_search))\n",
    "        list_cars_page=driver.find_elements(By.CLASS_NAME ,value = \"result-tile\")\n",
    "        main_page = driver.current_window_handle\n",
    "    else:\n",
    "        driver.get(\"https://www.carvana.com/cars/{}?page-{}\".format(car_to_search,i))\n",
    "        list_cars_page=driver.find_elements(By.CLASS_NAME ,value = \"result-tile\")\n",
    "        main_page = driver.current_window_handle\n",
    "    links = []\n",
    "    #print(list_cars_page)\n",
    "    \n",
    "    for car in range(len(list_cars_page)):\n",
    "        #element = list_cars_page[car]\n",
    "        item = list_cars_page[car].find_element(By.TAG_NAME, value = \"a\").get_property('href')\n",
    "        links.append(item)\n",
    "        #print(links)\n",
    "    for i in range(len(links)):\n",
    "        driver.get(links[i])\n",
    "        driver.implicitly_wait(20)\n",
    "        #driver.find_element(By.CLASS_NAME,value = \"unpositioned-element\").click()\n",
    "        model_make_trim = driver.find_element(By.XPATH, value = \"//*[@id='hero-content']/div[1]/div/div[2]\")\n",
    "        price = driver.find_element(By.XPATH,value = \"//*[@id='hero-content']/div[1]/div/div[3]/p[1]\")\n",
    "        car_url = driver.current_url\n",
    "        driver.get(car_url+\"#vehicle-details\")\n",
    "        #driver.find_element(By.XPATH,value = \"//*[@id='vehicle-details']/section/nav/ul/li[1]\")\n",
    "        \n",
    "        highlights = driver.find_elements(By.CSS_SELECTOR,value=\"#vehicle-details > section > div > div.Specificationsstyles__HighlightsGrid-fj3m3o-2.eUwWrk.d-grid.mt-16  > div\")\n",
    "        print(highlights)\n",
    "        highlight_data = []\n",
    "        for i in range(len(highlights)):\n",
    "            data = highlights[i].text\n",
    "            highlight_data.append(data)\n",
    "        #Details of the car\n",
    "        r = {\"Model\": model_make_trim.text,\n",
    "            \"Price\":price.text,\n",
    "             \"Car_Highlights\":highlight_data\n",
    "            }\n",
    "        print(r)\n",
    "        #Highlight_Series = pd.Series(highlight_data)\n",
    "        df2 = pd.DataFrame.from_dict(r)\n",
    "        df = df.append(df2)\n",
    "        #df = df.append(Highlight_Series, column = 'Highlights')\n",
    "        #df[']str.strip()\n",
    "        driver.back()   \n",
    "        \n"
   ]
  },
  {
   "cell_type": "code",
   "execution_count": 48,
   "id": "dbf79286",
   "metadata": {
    "ExecuteTime": {
     "end_time": "2021-12-03T15:54:18.154323Z",
     "start_time": "2021-12-03T15:54:18.133062Z"
    }
   },
   "outputs": [
    {
     "data": {
      "text/html": [
       "<div>\n",
       "<style scoped>\n",
       "    .dataframe tbody tr th:only-of-type {\n",
       "        vertical-align: middle;\n",
       "    }\n",
       "\n",
       "    .dataframe tbody tr th {\n",
       "        vertical-align: top;\n",
       "    }\n",
       "\n",
       "    .dataframe thead th {\n",
       "        text-align: right;\n",
       "    }\n",
       "</style>\n",
       "<table border=\"1\" class=\"dataframe\">\n",
       "  <thead>\n",
       "    <tr style=\"text-align: right;\">\n",
       "      <th></th>\n",
       "      <th>Model</th>\n",
       "      <th>Price</th>\n",
       "      <th>Car_Highlights</th>\n",
       "    </tr>\n",
       "  </thead>\n",
       "  <tbody>\n",
       "    <tr>\n",
       "      <th>0</th>\n",
       "      <td>2021\\nSUBARU FORESTER\\nTouring Sport Utility 4D</td>\n",
       "      <td>$39,990</td>\n",
       "      <td>Rear Heated Seats\\nExplore in 360</td>\n",
       "    </tr>\n",
       "    <tr>\n",
       "      <th>1</th>\n",
       "      <td>2021\\nSUBARU FORESTER\\nTouring Sport Utility 4D</td>\n",
       "      <td>$39,990</td>\n",
       "      <td>Heated Seats\\nExplore in 360</td>\n",
       "    </tr>\n",
       "    <tr>\n",
       "      <th>2</th>\n",
       "      <td>2021\\nSUBARU FORESTER\\nTouring Sport Utility 4D</td>\n",
       "      <td>$39,990</td>\n",
       "      <td>Power Seat Controls</td>\n",
       "    </tr>\n",
       "    <tr>\n",
       "      <th>3</th>\n",
       "      <td>2021\\nSUBARU FORESTER\\nTouring Sport Utility 4D</td>\n",
       "      <td>$39,990</td>\n",
       "      <td>Blind Spot Warning\\nExplore in 360</td>\n",
       "    </tr>\n",
       "    <tr>\n",
       "      <th>4</th>\n",
       "      <td>2021\\nSUBARU FORESTER\\nTouring Sport Utility 4D</td>\n",
       "      <td>$39,990</td>\n",
       "      <td>Infotainment System</td>\n",
       "    </tr>\n",
       "    <tr>\n",
       "      <th>...</th>\n",
       "      <td>...</td>\n",
       "      <td>...</td>\n",
       "      <td>...</td>\n",
       "    </tr>\n",
       "    <tr>\n",
       "      <th>4</th>\n",
       "      <td>2020\\nSUBARU FORESTER\\nTouring Sport Utility 4D</td>\n",
       "      <td>$37,590</td>\n",
       "      <td>Backup Camera\\nExplore in 360</td>\n",
       "    </tr>\n",
       "    <tr>\n",
       "      <th>5</th>\n",
       "      <td>2020\\nSUBARU FORESTER\\nTouring Sport Utility 4D</td>\n",
       "      <td>$37,590</td>\n",
       "      <td>Lane Departure\\nExplore in 360</td>\n",
       "    </tr>\n",
       "    <tr>\n",
       "      <th>6</th>\n",
       "      <td>2020\\nSUBARU FORESTER\\nTouring Sport Utility 4D</td>\n",
       "      <td>$37,590</td>\n",
       "      <td>Blind Spot Warning\\nExplore in 360</td>\n",
       "    </tr>\n",
       "    <tr>\n",
       "      <th>7</th>\n",
       "      <td>2020\\nSUBARU FORESTER\\nTouring Sport Utility 4D</td>\n",
       "      <td>$37,590</td>\n",
       "      <td>Heated Seats\\nExplore in 360</td>\n",
       "    </tr>\n",
       "    <tr>\n",
       "      <th>8</th>\n",
       "      <td>2020\\nSUBARU FORESTER\\nTouring Sport Utility 4D</td>\n",
       "      <td>$37,590</td>\n",
       "      <td>No Reported Accidents\\nView Report</td>\n",
       "    </tr>\n",
       "  </tbody>\n",
       "</table>\n",
       "<p>124 rows × 3 columns</p>\n",
       "</div>"
      ],
      "text/plain": [
       "                                              Model    Price  \\\n",
       "0   2021\\nSUBARU FORESTER\\nTouring Sport Utility 4D  $39,990   \n",
       "1   2021\\nSUBARU FORESTER\\nTouring Sport Utility 4D  $39,990   \n",
       "2   2021\\nSUBARU FORESTER\\nTouring Sport Utility 4D  $39,990   \n",
       "3   2021\\nSUBARU FORESTER\\nTouring Sport Utility 4D  $39,990   \n",
       "4   2021\\nSUBARU FORESTER\\nTouring Sport Utility 4D  $39,990   \n",
       "..                                              ...      ...   \n",
       "4   2020\\nSUBARU FORESTER\\nTouring Sport Utility 4D  $37,590   \n",
       "5   2020\\nSUBARU FORESTER\\nTouring Sport Utility 4D  $37,590   \n",
       "6   2020\\nSUBARU FORESTER\\nTouring Sport Utility 4D  $37,590   \n",
       "7   2020\\nSUBARU FORESTER\\nTouring Sport Utility 4D  $37,590   \n",
       "8   2020\\nSUBARU FORESTER\\nTouring Sport Utility 4D  $37,590   \n",
       "\n",
       "                        Car_Highlights  \n",
       "0    Rear Heated Seats\\nExplore in 360  \n",
       "1         Heated Seats\\nExplore in 360  \n",
       "2                  Power Seat Controls  \n",
       "3   Blind Spot Warning\\nExplore in 360  \n",
       "4                  Infotainment System  \n",
       "..                                 ...  \n",
       "4        Backup Camera\\nExplore in 360  \n",
       "5       Lane Departure\\nExplore in 360  \n",
       "6   Blind Spot Warning\\nExplore in 360  \n",
       "7         Heated Seats\\nExplore in 360  \n",
       "8   No Reported Accidents\\nView Report  \n",
       "\n",
       "[124 rows x 3 columns]"
      ]
     },
     "execution_count": 48,
     "metadata": {},
     "output_type": "execute_result"
    }
   ],
   "source": [
    "df"
   ]
  },
  {
   "cell_type": "code",
   "execution_count": 135,
   "id": "b1958794",
   "metadata": {
    "ExecuteTime": {
     "end_time": "2021-12-02T14:35:04.459730Z",
     "start_time": "2021-12-02T14:34:49.060301Z"
    },
    "scrolled": true
   },
   "outputs": [
    {
     "name": "stderr",
     "output_type": "stream",
     "text": [
      "<ipython-input-116-0faefd43bddb>:8: DeprecationWarning: executable_path has been deprecated, please pass in a Service object\n",
      "  driver=webdriver.Chrome(r\"C:/Users/admin/OneDrive/Documents/Sindhu/Software/Selenium/Driver/chromedriver.exe\",options=options)\n"
     ]
    },
    {
     "data": {
      "text/plain": [
       "['Power Seat Controls',\n",
       " 'Blind Spot Warning',\n",
       " 'Bluetooth\\nExplore in 360',\n",
       " 'Infotainment System',\n",
       " 'Backup Camera\\nExplore in 360',\n",
       " 'Hands Free Calling',\n",
       " 'Bluetooth Music',\n",
       " 'No Reported Accidents\\nView Report']"
      ]
     },
     "execution_count": 135,
     "metadata": {},
     "output_type": "execute_result"
    }
   ],
   "source": [
    "driver = init_web_driver()\n",
    "driver.get(\"https://www.carvana.com/vehicle/2098034#vehicle-details\")\n",
    "highlights = driver.find_elements(By.CSS_SELECTOR,value=\"#vehicle-details > section > div > div.Specificationsstyles__HighlightsGrid-fj3m3o-2.eUwWrk.d-grid.mt-16  > div\")\n",
    "#highlights[0].find_element(By.TAG_NAME,value = 'div').text\n",
    "\n",
    "highlight_data = []\n",
    "for i in range(len(highlights)):\n",
    "    data = highlights[i].text\n",
    "    highlight_data.append(data)\n",
    "\n",
    "highlight_data"
   ]
  }
 ],
 "metadata": {
  "kernelspec": {
   "display_name": "Python 3",
   "language": "python",
   "name": "python3"
  },
  "language_info": {
   "codemirror_mode": {
    "name": "ipython",
    "version": 3
   },
   "file_extension": ".py",
   "mimetype": "text/x-python",
   "name": "python",
   "nbconvert_exporter": "python",
   "pygments_lexer": "ipython3",
   "version": "3.8.8"
  }
 },
 "nbformat": 4,
 "nbformat_minor": 5
}
