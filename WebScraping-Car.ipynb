{
 "cells": [
  {
   "cell_type": "code",
   "execution_count": 1,
   "id": "82ae93bc",
   "metadata": {
    "ExecuteTime": {
     "end_time": "2021-11-30T23:43:39.143999Z",
     "start_time": "2021-11-30T23:43:39.125482Z"
    }
   },
   "outputs": [],
   "source": [
    "def navigate_to_baseurl(driver,url):\n",
    "    base_url = url_concat(url)\n",
    "    driver.get(base_url)\n",
    "    driver.implicitly_wait(10)"
   ]
  },
  {
   "cell_type": "code",
   "execution_count": 2,
   "id": "aae987c4",
   "metadata": {
    "ExecuteTime": {
     "end_time": "2021-11-30T23:43:40.816884Z",
     "start_time": "2021-11-30T23:43:40.804994Z"
    }
   },
   "outputs": [],
   "source": [
    "def url_concat(url):\n",
    "    urlstr= url\n",
    "    return urlstr"
   ]
  },
  {
   "cell_type": "code",
   "execution_count": 3,
   "id": "a5fd71bc",
   "metadata": {
    "ExecuteTime": {
     "end_time": "2021-11-30T23:43:42.052782Z",
     "start_time": "2021-11-30T23:43:42.043816Z"
    }
   },
   "outputs": [],
   "source": [
    "def init_web_driver():\n",
    "    options = webdriver.ChromeOptions()\n",
    "    options.add_argument(\"--disable-notifications\");\n",
    "    options.add_argument(\"start-maximized\")\n",
    "    options.add_experimental_option(\"excludeSwitches\", [\"enable-automation\"])\n",
    "    options.add_experimental_option('useAutomationExtension', False)\n",
    "    driver=webdriver.Chrome(r\"C:/Users/admin/OneDrive/Documents/Sindhu/Software/Selenium/Driver/chromedriver.exe\",options=options)\n",
    "    return driver"
   ]
  },
  {
   "cell_type": "code",
   "execution_count": 5,
   "id": "8cd13046",
   "metadata": {
    "ExecuteTime": {
     "end_time": "2021-11-24T22:36:22.491350Z",
     "start_time": "2021-11-24T22:36:16.279269Z"
    }
   },
   "outputs": [
    {
     "name": "stdout",
     "output_type": "stream",
     "text": [
      "Collecting selenium\n",
      "  Downloading selenium-4.1.0-py3-none-any.whl (958 kB)\n",
      "Collecting trio-websocket~=0.9\n",
      "  Downloading trio_websocket-0.9.2-py3-none-any.whl (16 kB)\n",
      "Requirement already satisfied: urllib3[secure]~=1.26 in c:\\users\\admin\\anaconda3\\lib\\site-packages (from selenium) (1.26.4)\n",
      "Collecting trio~=0.17\n",
      "  Downloading trio-0.19.0-py3-none-any.whl (356 kB)\n",
      "Requirement already satisfied: attrs>=19.2.0 in c:\\users\\admin\\anaconda3\\lib\\site-packages (from trio~=0.17->selenium) (20.3.0)\n",
      "Requirement already satisfied: cffi>=1.14 in c:\\users\\admin\\anaconda3\\lib\\site-packages (from trio~=0.17->selenium) (1.14.5)\n",
      "Collecting outcome\n",
      "  Downloading outcome-1.1.0-py2.py3-none-any.whl (9.7 kB)\n",
      "Requirement already satisfied: sniffio in c:\\users\\admin\\anaconda3\\lib\\site-packages (from trio~=0.17->selenium) (1.2.0)\n",
      "Requirement already satisfied: async-generator>=1.9 in c:\\users\\admin\\anaconda3\\lib\\site-packages (from trio~=0.17->selenium) (1.10)\n",
      "Requirement already satisfied: idna in c:\\users\\admin\\anaconda3\\lib\\site-packages (from trio~=0.17->selenium) (2.10)\n",
      "Requirement already satisfied: sortedcontainers in c:\\users\\admin\\anaconda3\\lib\\site-packages (from trio~=0.17->selenium) (2.3.0)\n",
      "Requirement already satisfied: pycparser in c:\\users\\admin\\anaconda3\\lib\\site-packages (from cffi>=1.14->trio~=0.17->selenium) (2.20)\n",
      "Collecting wsproto>=0.14\n",
      "  Downloading wsproto-1.0.0-py3-none-any.whl (24 kB)\n",
      "Requirement already satisfied: cryptography>=1.3.4 in c:\\users\\admin\\anaconda3\\lib\\site-packages (from urllib3[secure]~=1.26->selenium) (3.4.7)\n",
      "Requirement already satisfied: certifi in c:\\users\\admin\\anaconda3\\lib\\site-packages (from urllib3[secure]~=1.26->selenium) (2020.12.5)\n",
      "Requirement already satisfied: pyOpenSSL>=0.14 in c:\\users\\admin\\anaconda3\\lib\\site-packages (from urllib3[secure]~=1.26->selenium) (20.0.1)\n",
      "Requirement already satisfied: six>=1.5.2 in c:\\users\\admin\\anaconda3\\lib\\site-packages (from pyOpenSSL>=0.14->urllib3[secure]~=1.26->selenium) (1.15.0)\n",
      "Collecting h11<1,>=0.9.0\n",
      "  Downloading h11-0.12.0-py3-none-any.whl (54 kB)\n",
      "Installing collected packages: outcome, h11, wsproto, trio, trio-websocket, selenium\n",
      "Successfully installed h11-0.12.0 outcome-1.1.0 selenium-4.1.0 trio-0.19.0 trio-websocket-0.9.2 wsproto-1.0.0\n"
     ]
    }
   ],
   "source": [
    "!pip install selenium"
   ]
  },
  {
   "cell_type": "code",
   "execution_count": 16,
   "id": "d522f96f",
   "metadata": {
    "ExecuteTime": {
     "end_time": "2021-12-01T00:03:45.382653Z",
     "start_time": "2021-12-01T00:03:33.270621Z"
    }
   },
   "outputs": [
    {
     "name": "stderr",
     "output_type": "stream",
     "text": [
      "<ipython-input-3-281807a5d930>:7: DeprecationWarning: executable_path has been deprecated, please pass in a Service object\n",
      "  driver=webdriver.Chrome(r\"C:/Users/admin/OneDrive/Documents/Sindhu/Software/Selenium/Driver/chromedriver.exe\",options=options)\n",
      "<ipython-input-16-1db03f4ecef8>:13: DeprecationWarning: find_element_by_* commands are deprecated. Please use find_element() instead\n",
      "  input_model = driver.find_element_by_xpath(\"//*[@id='search-bar-container-wrapper']/div[2]/div/input\")\n",
      "<ipython-input-16-1db03f4ecef8>:16: DeprecationWarning: find_element_by_* commands are deprecated. Please use find_element() instead\n",
      "  button = driver.find_element_by_xpath(\"//*[@id='search-bar-container-wrapper']/div[2]/button\")\n",
      "<ipython-input-16-1db03f4ecef8>:19: DeprecationWarning: find_element_by_* commands are deprecated. Please use find_element() instead\n",
      "  pop_up_input = driver.find_element_by_xpath(\"//*[@id='experiment-sheet']\")\n",
      "<ipython-input-16-1db03f4ecef8>:22: DeprecationWarning: find_element_by_* commands are deprecated. Please use find_element() instead\n",
      "  pop_up_close = driver.find_element_by_xpath(\"//*[@id='email-capture']/div[2]/div/div/div[2]/button\")\n"
     ]
    },
    {
     "ename": "InvalidArgumentException",
     "evalue": "Message: invalid argument: invalid locator\n  (Session info: chrome=96.0.4664.45)\nStacktrace:\nBacktrace:\n\tOrdinal0 [0x00BD6903+2517251]\n\tOrdinal0 [0x00B6F8E1+2095329]\n\tOrdinal0 [0x00A72848+1058888]\n\tOrdinal0 [0x00A9D5C4+1234372]\n\tOrdinal0 [0x00A9D63B+1234491]\n\tOrdinal0 [0x00AC784C+1407052]\n\tOrdinal0 [0x00AB650A+1336586]\n\tOrdinal0 [0x00AC5BBF+1399743]\n\tOrdinal0 [0x00AB639B+1336219]\n\tOrdinal0 [0x00A927A7+1189799]\n\tOrdinal0 [0x00A93609+1193481]\n\tGetHandleVerifier [0x00D65904+1577972]\n\tGetHandleVerifier [0x00E10B97+2279047]\n\tGetHandleVerifier [0x00C66D09+534521]\n\tGetHandleVerifier [0x00C65DB9+530601]\n\tOrdinal0 [0x00B74FF9+2117625]\n\tOrdinal0 [0x00B798A8+2136232]\n\tOrdinal0 [0x00B799E2+2136546]\n\tOrdinal0 [0x00B83541+2176321]\n\tBaseThreadInitThunk [0x75BAFA29+25]\n\tRtlGetAppContainerNamedObjectPath [0x76F47A9E+286]\n\tRtlGetAppContainerNamedObjectPath [0x76F47A6E+238]\n",
     "output_type": "error",
     "traceback": [
      "\u001b[1;31m---------------------------------------------------------------------------\u001b[0m",
      "\u001b[1;31mInvalidArgumentException\u001b[0m                  Traceback (most recent call last)",
      "\u001b[1;32m<ipython-input-16-1db03f4ecef8>\u001b[0m in \u001b[0;36m<module>\u001b[1;34m\u001b[0m\n\u001b[0;32m     26\u001b[0m \u001b[1;31m#First i need to gte the list of all cars in teh current page\u001b[0m\u001b[1;33m\u001b[0m\u001b[1;33m\u001b[0m\u001b[1;33m\u001b[0m\u001b[0m\n\u001b[0;32m     27\u001b[0m \u001b[1;33m\u001b[0m\u001b[0m\n\u001b[1;32m---> 28\u001b[1;33m \u001b[0mlist_cars_page\u001b[0m\u001b[1;33m=\u001b[0m\u001b[0mdriver\u001b[0m\u001b[1;33m.\u001b[0m\u001b[0mfind_elements\u001b[0m\u001b[1;33m(\u001b[0m\u001b[0mby\u001b[0m\u001b[1;33m=\u001b[0m \u001b[1;34m'class_name'\u001b[0m\u001b[1;33m,\u001b[0m\u001b[0mvalue\u001b[0m \u001b[1;33m=\u001b[0m \u001b[1;34m\"year-make\"\u001b[0m\u001b[1;33m)\u001b[0m\u001b[1;33m\u001b[0m\u001b[1;33m\u001b[0m\u001b[0m\n\u001b[0m\u001b[0;32m     29\u001b[0m \u001b[1;32mfor\u001b[0m \u001b[0mi\u001b[0m \u001b[1;32min\u001b[0m \u001b[0mlist_cars_page\u001b[0m\u001b[1;33m:\u001b[0m\u001b[1;33m\u001b[0m\u001b[1;33m\u001b[0m\u001b[0m\n\u001b[0;32m     30\u001b[0m     \u001b[0mdriver\u001b[0m \u001b[1;33m=\u001b[0m \u001b[0mwebdriver\u001b[0m\u001b[1;33m.\u001b[0m\u001b[0mChrome\u001b[0m\u001b[1;33m(\u001b[0m\u001b[1;33m)\u001b[0m\u001b[1;33m\u001b[0m\u001b[1;33m\u001b[0m\u001b[0m\n",
      "\u001b[1;32m~\\anaconda3\\lib\\site-packages\\selenium\\webdriver\\remote\\webdriver.py\u001b[0m in \u001b[0;36mfind_elements\u001b[1;34m(self, by, value)\u001b[0m\n\u001b[0;32m   1277\u001b[0m         \u001b[1;31m# Return empty list if driver returns null\u001b[0m\u001b[1;33m\u001b[0m\u001b[1;33m\u001b[0m\u001b[1;33m\u001b[0m\u001b[0m\n\u001b[0;32m   1278\u001b[0m         \u001b[1;31m# See https://github.com/SeleniumHQ/selenium/issues/4555\u001b[0m\u001b[1;33m\u001b[0m\u001b[1;33m\u001b[0m\u001b[1;33m\u001b[0m\u001b[0m\n\u001b[1;32m-> 1279\u001b[1;33m         return self.execute(Command.FIND_ELEMENTS, {\n\u001b[0m\u001b[0;32m   1280\u001b[0m             \u001b[1;34m'using'\u001b[0m\u001b[1;33m:\u001b[0m \u001b[0mby\u001b[0m\u001b[1;33m,\u001b[0m\u001b[1;33m\u001b[0m\u001b[1;33m\u001b[0m\u001b[0m\n\u001b[0;32m   1281\u001b[0m             'value': value})['value'] or []\n",
      "\u001b[1;32m~\\anaconda3\\lib\\site-packages\\selenium\\webdriver\\remote\\webdriver.py\u001b[0m in \u001b[0;36mexecute\u001b[1;34m(self, driver_command, params)\u001b[0m\n\u001b[0;32m    422\u001b[0m         \u001b[0mresponse\u001b[0m \u001b[1;33m=\u001b[0m \u001b[0mself\u001b[0m\u001b[1;33m.\u001b[0m\u001b[0mcommand_executor\u001b[0m\u001b[1;33m.\u001b[0m\u001b[0mexecute\u001b[0m\u001b[1;33m(\u001b[0m\u001b[0mdriver_command\u001b[0m\u001b[1;33m,\u001b[0m \u001b[0mparams\u001b[0m\u001b[1;33m)\u001b[0m\u001b[1;33m\u001b[0m\u001b[1;33m\u001b[0m\u001b[0m\n\u001b[0;32m    423\u001b[0m         \u001b[1;32mif\u001b[0m \u001b[0mresponse\u001b[0m\u001b[1;33m:\u001b[0m\u001b[1;33m\u001b[0m\u001b[1;33m\u001b[0m\u001b[0m\n\u001b[1;32m--> 424\u001b[1;33m             \u001b[0mself\u001b[0m\u001b[1;33m.\u001b[0m\u001b[0merror_handler\u001b[0m\u001b[1;33m.\u001b[0m\u001b[0mcheck_response\u001b[0m\u001b[1;33m(\u001b[0m\u001b[0mresponse\u001b[0m\u001b[1;33m)\u001b[0m\u001b[1;33m\u001b[0m\u001b[1;33m\u001b[0m\u001b[0m\n\u001b[0m\u001b[0;32m    425\u001b[0m             response['value'] = self._unwrap_value(\n\u001b[0;32m    426\u001b[0m                 response.get('value', None))\n",
      "\u001b[1;32m~\\anaconda3\\lib\\site-packages\\selenium\\webdriver\\remote\\errorhandler.py\u001b[0m in \u001b[0;36mcheck_response\u001b[1;34m(self, response)\u001b[0m\n\u001b[0;32m    245\u001b[0m                 \u001b[0malert_text\u001b[0m \u001b[1;33m=\u001b[0m \u001b[0mvalue\u001b[0m\u001b[1;33m[\u001b[0m\u001b[1;34m'alert'\u001b[0m\u001b[1;33m]\u001b[0m\u001b[1;33m.\u001b[0m\u001b[0mget\u001b[0m\u001b[1;33m(\u001b[0m\u001b[1;34m'text'\u001b[0m\u001b[1;33m)\u001b[0m\u001b[1;33m\u001b[0m\u001b[1;33m\u001b[0m\u001b[0m\n\u001b[0;32m    246\u001b[0m             \u001b[1;32mraise\u001b[0m \u001b[0mexception_class\u001b[0m\u001b[1;33m(\u001b[0m\u001b[0mmessage\u001b[0m\u001b[1;33m,\u001b[0m \u001b[0mscreen\u001b[0m\u001b[1;33m,\u001b[0m \u001b[0mstacktrace\u001b[0m\u001b[1;33m,\u001b[0m \u001b[0malert_text\u001b[0m\u001b[1;33m)\u001b[0m  \u001b[1;31m# type: ignore[call-arg]  # mypy is not smart enough here\u001b[0m\u001b[1;33m\u001b[0m\u001b[1;33m\u001b[0m\u001b[0m\n\u001b[1;32m--> 247\u001b[1;33m         \u001b[1;32mraise\u001b[0m \u001b[0mexception_class\u001b[0m\u001b[1;33m(\u001b[0m\u001b[0mmessage\u001b[0m\u001b[1;33m,\u001b[0m \u001b[0mscreen\u001b[0m\u001b[1;33m,\u001b[0m \u001b[0mstacktrace\u001b[0m\u001b[1;33m)\u001b[0m\u001b[1;33m\u001b[0m\u001b[1;33m\u001b[0m\u001b[0m\n\u001b[0m\u001b[0;32m    248\u001b[0m \u001b[1;33m\u001b[0m\u001b[0m\n\u001b[0;32m    249\u001b[0m     \u001b[1;32mdef\u001b[0m \u001b[0m_value_or_default\u001b[0m\u001b[1;33m(\u001b[0m\u001b[0mself\u001b[0m\u001b[1;33m,\u001b[0m \u001b[0mobj\u001b[0m\u001b[1;33m:\u001b[0m \u001b[0mMapping\u001b[0m\u001b[1;33m[\u001b[0m\u001b[0m_KT\u001b[0m\u001b[1;33m,\u001b[0m \u001b[0m_VT\u001b[0m\u001b[1;33m]\u001b[0m\u001b[1;33m,\u001b[0m \u001b[0mkey\u001b[0m\u001b[1;33m:\u001b[0m \u001b[0m_KT\u001b[0m\u001b[1;33m,\u001b[0m \u001b[0mdefault\u001b[0m\u001b[1;33m:\u001b[0m \u001b[0m_VT\u001b[0m\u001b[1;33m)\u001b[0m \u001b[1;33m->\u001b[0m \u001b[0m_VT\u001b[0m\u001b[1;33m:\u001b[0m\u001b[1;33m\u001b[0m\u001b[1;33m\u001b[0m\u001b[0m\n",
      "\u001b[1;31mInvalidArgumentException\u001b[0m: Message: invalid argument: invalid locator\n  (Session info: chrome=96.0.4664.45)\nStacktrace:\nBacktrace:\n\tOrdinal0 [0x00BD6903+2517251]\n\tOrdinal0 [0x00B6F8E1+2095329]\n\tOrdinal0 [0x00A72848+1058888]\n\tOrdinal0 [0x00A9D5C4+1234372]\n\tOrdinal0 [0x00A9D63B+1234491]\n\tOrdinal0 [0x00AC784C+1407052]\n\tOrdinal0 [0x00AB650A+1336586]\n\tOrdinal0 [0x00AC5BBF+1399743]\n\tOrdinal0 [0x00AB639B+1336219]\n\tOrdinal0 [0x00A927A7+1189799]\n\tOrdinal0 [0x00A93609+1193481]\n\tGetHandleVerifier [0x00D65904+1577972]\n\tGetHandleVerifier [0x00E10B97+2279047]\n\tGetHandleVerifier [0x00C66D09+534521]\n\tGetHandleVerifier [0x00C65DB9+530601]\n\tOrdinal0 [0x00B74FF9+2117625]\n\tOrdinal0 [0x00B798A8+2136232]\n\tOrdinal0 [0x00B799E2+2136546]\n\tOrdinal0 [0x00B83541+2176321]\n\tBaseThreadInitThunk [0x75BAFA29+25]\n\tRtlGetAppContainerNamedObjectPath [0x76F47A9E+286]\n\tRtlGetAppContainerNamedObjectPath [0x76F47A6E+238]\n"
     ]
    }
   ],
   "source": [
    "from selenium import webdriver\n",
    "from selenium.webdriver.common.keys import Keys\n",
    "from selenium.webdriver.support.ui import WebDriverWait\n",
    "from  selenium.webdriver.common.action_chains import ActionChains\n",
    "from selenium.webdriver.common.by import By\n",
    "import csv\n",
    "\n",
    "driver = init_web_driver()\n",
    "url = \"https://www.carvana.com/cars\"\n",
    "\n",
    "index=0\n",
    "navigate_to_baseurl(driver,url)\n",
    "input_model = driver.find_element_by_xpath(\"//*[@id='search-bar-container-wrapper']/div[2]/div/input\")\n",
    "input_model.send_keys('Forester')\n",
    "#input_modelsend_keys(Keys.RETURN)\n",
    "button = driver.find_element_by_xpath(\"//*[@id='search-bar-container-wrapper']/div[2]/button\")\n",
    "button.click()\n",
    "\n",
    "pop_up_input = driver.find_element_by_xpath(\"//*[@id='experiment-sheet']\")\n",
    "pop_up_input.send_keys('123@abc.com')\n",
    "\n",
    "pop_up_close = driver.find_element_by_xpath(\"//*[@id='email-capture']/div[2]/div/div/div[2]/button\")\n",
    "driver.implicitly_wait(10)\n",
    "ActionChains(driver).move_to_element(pop_up_close).click(pop_up_close).perform()\n",
    "#Navigating though the list of cars form the current page\n",
    "#First i need to gte the list of all cars in teh current page\n",
    "\n",
    "list_cars_page=driver.find_elements(by= 'class_name',value = \"year-make\")\n",
    "for i in list_cars_page:\n",
    "    driver = webdriver.Chrome()\n",
    "    actionChains = ActionChains(driver)\n",
    "\n",
    "    actionChains.context_click(your_link).perform()\n",
    "    print(i.text)\n"
   ]
  },
  {
   "cell_type": "code",
   "execution_count": null,
   "id": "06864256",
   "metadata": {},
   "outputs": [],
   "source": []
  }
 ],
 "metadata": {
  "kernelspec": {
   "display_name": "Python 3",
   "language": "python",
   "name": "python3"
  },
  "language_info": {
   "codemirror_mode": {
    "name": "ipython",
    "version": 3
   },
   "file_extension": ".py",
   "mimetype": "text/x-python",
   "name": "python",
   "nbconvert_exporter": "python",
   "pygments_lexer": "ipython3",
   "version": "3.8.8"
  }
 },
 "nbformat": 4,
 "nbformat_minor": 5
}
